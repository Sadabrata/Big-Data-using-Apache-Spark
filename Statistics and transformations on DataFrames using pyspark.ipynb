{
    "cells": [
        {
            "cell_type": "markdown",
            "metadata": {
                "collapsed": true
            },
            "source": "Welcome to exercise one of week two of \u201cApache Spark for Scalable Machine Learning on BigData\u201d. In this exercise you\u2019ll read a DataFrame in order to perform a simple statistical analysis. Then you\u2019ll rebalance the dataset. No worries, we\u2019ll explain everything to you, let\u2019s get started.\n\nLet\u2019s create a data frame from a remote file by downloading it:\n\n\n"
        },
        {
            "cell_type": "markdown",
            "metadata": {},
            "source": "This notebook is designed to run in a IBM Watson Studio Apache Spark runtime. In case you are running it in an IBM Watson Studio standard runtime or outside Watson Studio, we install Apache Spark in local mode for test purposes only. Please don't use it in production."
        },
        {
            "cell_type": "code",
            "execution_count": 12,
            "metadata": {},
            "outputs": [
                {
                    "name": "stdout",
                    "output_type": "stream",
                    "text": "Requirement already up-to-date: pip in /opt/conda/envs/Python36/lib/python3.6/site-packages (20.0.2)\r\n"
                }
            ],
            "source": "!pip install --upgrade pip"
        },
        {
            "cell_type": "code",
            "execution_count": 13,
            "metadata": {},
            "outputs": [],
            "source": "if not ('sc' in locals() or 'sc' in globals()):\n    print('It seems you are note running in a IBM Watson Studio Apache Spark Notebook. You might be running in a IBM Watson Studio Default Runtime or outside IBM Waston Studio. Therefore installing local Apache Spark environment for you. Please do not use in Production')\n    \n    from pip import main\n    main(['install', 'pyspark==2.4.5'])\n    \n    from pyspark import SparkContext, SparkConf\n    from pyspark.sql import SparkSession\n\n    sc = SparkContext.getOrCreate(SparkConf().setMaster(\"local[*]\"))\n    \n    spark = SparkSession \\\n        .builder \\\n        .getOrCreate()"
        },
        {
            "cell_type": "code",
            "execution_count": 14,
            "metadata": {},
            "outputs": [
                {
                    "name": "stdout",
                    "output_type": "stream",
                    "text": "--2020-03-26 18:20:46--  https://github.com/IBM/coursera/raw/master/hmp.parquet\nResolving github.com (github.com)... 140.82.113.4\nConnecting to github.com (github.com)|140.82.113.4|:443... connected.\nHTTP request sent, awaiting response... 301 Moved Permanently\nLocation: https://github.com/IBM/skillsnetwork/raw/master/hmp.parquet [following]\n--2020-03-26 18:20:46--  https://github.com/IBM/skillsnetwork/raw/master/hmp.parquet\nReusing existing connection to github.com:443.\nHTTP request sent, awaiting response... 302 Found\nLocation: https://raw.githubusercontent.com/IBM/skillsnetwork/master/hmp.parquet [following]\n--2020-03-26 18:20:46--  https://raw.githubusercontent.com/IBM/skillsnetwork/master/hmp.parquet\nResolving raw.githubusercontent.com (raw.githubusercontent.com)... 199.232.8.133\nConnecting to raw.githubusercontent.com (raw.githubusercontent.com)|199.232.8.133|:443... connected.\nHTTP request sent, awaiting response... 200 OK\nLength: 932997 (911K) [application/octet-stream]\nSaving to: \u2018hmp.parquet\u2019\n\n100%[======================================>] 932,997     --.-K/s   in 0.03s   \n\n2020-03-26 18:20:46 (28.3 MB/s) - \u2018hmp.parquet\u2019 saved [932997/932997]\n\n"
                }
            ],
            "source": "# delete files from previous runs\n!rm -f hmp.parquet*\n\n# download the file containing the data in PARQUET format\n!wget https://github.com/IBM/coursera/raw/master/hmp.parquet\n    \n# create a dataframe out of it\ndf = spark.read.parquet('hmp.parquet')\n\n# register a corresponding query table\ndf.createOrReplaceTempView('df')"
        },
        {
            "cell_type": "markdown",
            "metadata": {},
            "source": "Let\u2019s have a look at the data set first. This dataset contains sensor recordings from different movement activities as we will see in the next week\u2019s lectures. X, Y and Z contain accelerometer sensor values whereas the class field contains information about which movement has been recorded. The source field is optional and can be used for data lineage since it contains the file name of the original file where the particular row was imported from.\n\nMore details on the data set can be found here:\nhttps://github.com/wchill/HMP_Dataset\n"
        },
        {
            "cell_type": "code",
            "execution_count": 15,
            "metadata": {},
            "outputs": [
                {
                    "name": "stdout",
                    "output_type": "stream",
                    "text": "+---+---+---+--------------------+-----------+\n|  x|  y|  z|              source|      class|\n+---+---+---+--------------------+-----------+\n| 22| 49| 35|Accelerometer-201...|Brush_teeth|\n| 22| 49| 35|Accelerometer-201...|Brush_teeth|\n| 22| 52| 35|Accelerometer-201...|Brush_teeth|\n| 22| 52| 35|Accelerometer-201...|Brush_teeth|\n| 21| 52| 34|Accelerometer-201...|Brush_teeth|\n+---+---+---+--------------------+-----------+\nonly showing top 5 rows\n\nroot\n |-- x: integer (nullable = true)\n |-- y: integer (nullable = true)\n |-- z: integer (nullable = true)\n |-- source: string (nullable = true)\n |-- class: string (nullable = true)\n\n"
                }
            ],
            "source": "df.show(5)\ndf.printSchema()"
        },
        {
            "cell_type": "markdown",
            "metadata": {},
            "source": "This is a classical classification data set. One thing we always do during data analysis is checking if the classes are balanced. In other words, if there are more or less the same number of example in each class. Let\u2019s find out by a simple aggregation using SQL."
        },
        {
            "cell_type": "code",
            "execution_count": 16,
            "metadata": {},
            "outputs": [
                {
                    "name": "stdout",
                    "output_type": "stream",
                    "text": "+--------------+--------+\n|         class|count(1)|\n+--------------+--------+\n| Use_telephone|   15225|\n| Standup_chair|   25417|\n|      Eat_meat|   31236|\n|     Getup_bed|   45801|\n|   Drink_glass|   42792|\n|    Pour_water|   41673|\n|     Comb_hair|   23504|\n|          Walk|   92254|\n|  Climb_stairs|   40258|\n| Sitdown_chair|   25036|\n|   Liedown_bed|   11446|\n|Descend_stairs|   15375|\n|   Brush_teeth|   29829|\n|      Eat_soup|    6683|\n+--------------+--------+\n\n"
                }
            ],
            "source": "spark.sql('select class, count(*) from df group by class').show()"
        },
        {
            "cell_type": "markdown",
            "metadata": {},
            "source": "As you can see there is quite an imbalance between classes. Before we dig into this, let\u2019s re-write the same query using the DataFrame API \u2013 just in case you are not familiar with SQL. As we\u2019ve learned before, it doesn\u2019t matter if you express your queries with SQL or the DataFrame API \u2013 it all gets boiled down into the same execution plan optimized by Tungsten and accelerated by Catalyst. You can even mix and match SQL and DataFrame API code if you like.\n\nAgain, more details on the API can be found here:\nhttps://spark.apache.org/docs/latest/api/python/pyspark.sql.html#pyspark.sql.DataFrame\n"
        },
        {
            "cell_type": "code",
            "execution_count": 17,
            "metadata": {},
            "outputs": [
                {
                    "name": "stdout",
                    "output_type": "stream",
                    "text": "+--------------+-----+\n|         class|count|\n+--------------+-----+\n| Use_telephone|15225|\n| Standup_chair|25417|\n|      Eat_meat|31236|\n|     Getup_bed|45801|\n|   Drink_glass|42792|\n|    Pour_water|41673|\n|     Comb_hair|23504|\n|          Walk|92254|\n|  Climb_stairs|40258|\n| Sitdown_chair|25036|\n|   Liedown_bed|11446|\n|Descend_stairs|15375|\n|   Brush_teeth|29829|\n|      Eat_soup| 6683|\n+--------------+-----+\n\n"
                }
            ],
            "source": "df.groupBy('class').count().show()"
        },
        {
            "cell_type": "markdown",
            "metadata": {},
            "source": "Let\u2019s create a bar plot from this data. We\u2019re using the pixidust library, which is Open Source, because of its simplicity. But any other library like matplotlib is fine as well. "
        },
        {
            "cell_type": "code",
            "execution_count": 22,
            "metadata": {
                "pixiedust": {
                    "displayParams": {
                        "handlerId": "barChart",
                        "keyFields": "class",
                        "legend": "true",
                        "mpld3": "false",
                        "orientation": "horizontal",
                        "rendererId": "matplotlib",
                        "sortby": "Values ASC",
                        "valueFields": "count"
                    }
                }
            },
            "outputs": [
                {
                    "data": {
                        "text/html": "<style type=\"text/css\">.pd_warning{display:none;}</style><div class=\"pd_warning\"><em>Hey, there's something awesome here! To see it, open this notebook outside GitHub, in a viewer like Jupyter</em></div>",
                        "text/plain": "<IPython.core.display.HTML object>"
                    },
                    "metadata": {
                        "pixieapp_metadata": null
                    },
                    "output_type": "display_data"
                }
            ],
            "source": "import pixiedust\nfrom pyspark.sql.functions import col\ncounts = df.groupBy('class').count().orderBy('count')\ndisplay(counts)"
        },
        {
            "cell_type": "markdown",
            "metadata": {},
            "source": "This looks nice, but it would be nice if we can aggregate further to obtain some quantitative metrics on the imbalance like, min, max, mean and standard deviation. If we divide max by min we get a measure called minmax ration which tells us something about the relationship between the smallest and largest class. Again, let\u2019s first use SQL for those of you familiar with SQL. Don\u2019t be scared, we\u2019re used nested sub-selects, basically selecting from a result of a SQL query like it was a table. All within on SQL statement."
        },
        {
            "cell_type": "code",
            "execution_count": 19,
            "metadata": {},
            "outputs": [
                {
                    "name": "stdout",
                    "output_type": "stream",
                    "text": "+----+-----+------------------+------------------+-----------------+\n| min|  max|              mean|            stddev|      minmaxratio|\n+----+-----+------------------+------------------+-----------------+\n|6683|92254|31894.928571428572|21284.893716741157|13.80427951518779|\n+----+-----+------------------+------------------+-----------------+\n\n"
                }
            ],
            "source": "spark.sql('''\n    select \n        *,\n        max/min as minmaxratio -- compute minmaxratio based on previously computed values\n        from (\n            select \n                min(ct) as min, -- compute minimum value of all classes\n                max(ct) as max, -- compute maximum value of all classes\n                mean(ct) as mean, -- compute mean between all classes\n                stddev(ct) as stddev -- compute standard deviation between all classes\n                from (\n                    select\n                        count(*) as ct -- count the number of rows per class and rename it to ct\n                        from df -- access the temporary query table called df backed by DataFrame df\n                        group by class -- aggrecate over class\n                )\n        )   \n''').show()"
        },
        {
            "cell_type": "markdown",
            "metadata": {},
            "source": "The same query can be expressed using the DataFrame API. Again, don\u2019t be scared. It\u2019s just a sequential expression of transformation steps. You now an choose which syntax you like better."
        },
        {
            "cell_type": "code",
            "execution_count": 20,
            "metadata": {},
            "outputs": [
                {
                    "name": "stdout",
                    "output_type": "stream",
                    "text": "+----+-----+------------------+------------------+-----------------+\n| min|  max|              mean|            stddev|      minmaxratio|\n+----+-----+------------------+------------------+-----------------+\n|6683|92254|31894.928571428572|21284.893716741157|13.80427951518779|\n+----+-----+------------------+------------------+-----------------+\n\n"
                }
            ],
            "source": "from pyspark.sql.functions import col, min, max, mean, stddev\n\ndf \\\n    .groupBy('class') \\\n    .count() \\\n    .select([ \n        min(col(\"count\")).alias('min'), \n        max(col(\"count\")).alias('max'), \n        mean(col(\"count\")).alias('mean'), \n        stddev(col(\"count\")).alias('stddev') \n    ]) \\\n    .select([\n        col('*'),\n        (col(\"max\") / col(\"min\")).alias('minmaxratio')\n    ]) \\\n    .show()\n"
        },
        {
            "cell_type": "markdown",
            "metadata": {},
            "source": "Now it\u2019s time for you to work on the data set. First, please create a table of all classes with the respective counts, but this time, please order the table by the count number, ascending."
        },
        {
            "cell_type": "code",
            "execution_count": 21,
            "metadata": {},
            "outputs": [
                {
                    "name": "stdout",
                    "output_type": "stream",
                    "text": "+--------------+------------+\n|         class|count_number|\n+--------------+------------+\n|      Eat_soup|        6683|\n|   Liedown_bed|       11446|\n| Use_telephone|       15225|\n|Descend_stairs|       15375|\n|     Comb_hair|       23504|\n| Sitdown_chair|       25036|\n| Standup_chair|       25417|\n|   Brush_teeth|       29829|\n|      Eat_meat|       31236|\n|  Climb_stairs|       40258|\n|    Pour_water|       41673|\n|   Drink_glass|       42792|\n|     Getup_bed|       45801|\n|          Walk|       92254|\n+--------------+------------+\n\n"
                }
            ],
            "source": "spark.sql(\"select class, count(class) as count_number from df group by class order by count_number asc\").show()"
        },
        {
            "cell_type": "markdown",
            "metadata": {},
            "source": "Pixiedust is a very sophisticated library. It takes care of sorting as well. Please modify the bar chart so that it gets sorted by the number of elements per class, ascending. Hint: It\u2019s an option available in the UI once rendered using the display() function."
        },
        {
            "cell_type": "code",
            "execution_count": 23,
            "metadata": {
                "pixiedust": {
                    "displayParams": {
                        "chartsize": "100",
                        "handlerId": "barChart",
                        "keyFields": "class",
                        "orientation": "horizontal",
                        "sortby": "Values ASC",
                        "valueFields": "count_number"
                    }
                }
            },
            "outputs": [
                {
                    "data": {
                        "text/html": "<style type=\"text/css\">.pd_warning{display:none;}</style><div class=\"pd_warning\"><em>Hey, there's something awesome here! To see it, open this notebook outside GitHub, in a viewer like Jupyter</em></div><img style=\"max-width:initial !important\" src=\"data:image/png;base64,iVBORw0KGgoAAAANSUhEUgAAAuEAAAG7CAYAAABtvUueAAAABHNCSVQICAgIfAhkiAAAAAlwSFlzAAAOwwAADsMBx2+oZAAAADl0RVh0U29mdHdhcmUAbWF0cGxvdGxpYiB2ZXJzaW9uIDMuMC4yLCBodHRwOi8vbWF0cGxvdGxpYi5vcmcvOIA7rQAAIABJREFUeJzs3Xl8Tnf+///HJYvsSCxBQkhILKlaEmu2VmijdMHQWqOiVWof+q1oQqUtI7W1ppZWtChlRjFjWjKViNpLSIqMpcpo0GZESSKy/f7wc31cEhLbldDn/XY7t9t1rvc57/frXPXHM+++zzmGoqKiIkRERERExGwqlXcBIiIiIiJ/NArhIiIiIiJmphAuIiIiImJmluVdgIiI3F5hYSHXrl1Dt+/I3bCyssLCwgKDwVDepYjIbSiEi4hUUJcvX+b48eMUFhaWdynyCHJycqJ+/fpYW1uXdykiUgKDno4iIlLxFBYWcvDgQZycnKhdu7ZmNKXMioqKyM3N5ezZs+Tn5/PEE09QqZJWn4pUNJoJFxGpgK5du0ZhYSG1a9fGzs6uvMuRR4ydnR3W1tYcPXqUlJQUnnjiCf0hJ1LB6E9jEZEK6Mb/pFRwknt1Y/Z7x44dHD16tJyrEZFbKYSLiIg8xgoLCzl16lR5lyEit1AIFxERMZOEhAQMBgP5+flmG9PS0pKsrCyzjSciZaMQLiIij7z4+Hgt3RGRR4puzBQReYQYDFPNNlZRUZTZxpJ7l5ubS+XKlcu7DBG5S5oJFxGRByI/P5933nmHevXqYWNjQ5MmTdi4cSMAn3/+OV5eXlSuXBlfX1/+9a9/Gc+Li4vDzc3NpK/o6Gg6depk3A8ODmbixIm89tprODo64uHhwapVqwA4deoUoaGhwPUbWQ0GA3FxcXes9caYa9eupUGDBlStWpUhQ4aQm5trPMZgMBAfH2/cP3XqFAaDgePHj5v0sWrVKho0aICDgwNvvvkmBQUFTJkyBRcXF9zc3Fi+fHmx8Tdv3kzjxo2xtbXlpZdeIjMz09h243w3NzccHR0JDg7m0KFDxX6b2bNnU7duXdq0aXPHaxWRikkhXEREHoioqCgWL17MnDlz+PHHH/nwww+xsrJix44dDBkyhFGjRnHo0CFefPFFXnjhhbu+WXDhwoX4+Phw4MABBg8eTHh4OBcuXMDd3Z2vvvoKgPT0dNLT0+nTp0+p/WVkZLBs2TI2bNjAunXrWL9+PYsWLbqrmjIyMli5ciUbN25k9erVLFq0iGeffZbCwkJ27tzJ8OHDiYiI4NdffzU5LyoqimXLlrF161aOHj3KmDFjjG1Tp05l06ZNfPnllxw4cICOHTsSGhrK77//bjwmOTmZ3bt3s3nzZuO1i8ijRSFcRETuW05ODrGxscyfP5+XXnoJT09Pnn32WZ555hnmzZvHSy+9xKhRo/D29mbatGm0bNmSjz/++K7G6NixI2PHjsXLy4vIyEgqVarEnj17sLCwoFq1agC4urri6uqKra1tqf3l5uayZMkSfH19CQkJoVevXiQmJt5VTbm5uSxevJjmzZvTrVs3QkJC+OWXX4iJiaFx48a89dZbWFhYsGvXLpPz3n33Xdq3b0+7du2YN28eK1asIDMzk6tXrzJr1iyWLVtGQEAAXl5exMTEUKVKFTZs2GA832AwsGTJEpo1a0aTJk3uqmYRqRi0JlxERO7b8ePHyc3NJTg4uFhbWloaAwYMMPmuffv2pKWl3dUYvr6+xs+WlpZUr16dCxcu3FO9ADVq1KBWrVrGfVdXV44cOXJffdSqVYsqVaoY9y0sLHBxcSk2E+7v72/yOT8/nxMnTmBjY0NOTg7t2rUzOT4nJ4eTJ08a9xs1aoSDg8Nd1SoiFYtCuIiI3LcbLxe62za4/lKZW4/Jy8srdpyVlZXJvsFgoLCw8C6qvLv+DAaDSV1lraksdd78JJebP1+5cgW4/ijDqlWrmpzj7Oxs/Ky3qIo8+rQcRURE7lujRo2oXLkyCQkJxdp8fHyKLcfYuXMnPj4+wPXZ5IyMDJOQm5KSclfj3wi+BQUFd1n57dWoUYNz587dc013smfPHpPPlpaWeHp60qRJE6ytrUlPT8fLy8tkuzmEi8ijTzPhIiJy32xtbRk/fjyjRo2iUqVKtGzZkmPHjlFYWMioUaMIDAzko48+okuXLixfvpwDBw4Yn27i5+dHpUqVmDZtGoMGDWLTpk1s27aN5s2bl3n8+vXrA7Bp0ybat2+Po6PjfT+2LzAwkLlz59KyZUsyMjKYPn36ffV3sylTphhnukePHs0rr7xi3B85ciTDhw/n2rVrtGrVinPnzrFx40b69etHs2bNHlgNIlK+NBMuIiIPxNSpUwkPD2fkyJE0adKEsWPHUlBQQIcOHfjss8+YM2cOzZs3Z926dXz99dd4eHgAUL16dZYuXcry5ct58sknOXjwIMOHD7+rsT08PJg0aRLh4eHUqFGDL7/88r6vJzY2FkdHR9q2bcu4ceOIjo6+7z5vmDJlCv369SMoKAgvLy/mzJljbPvLX/7CG2+8wYQJE/D29uZPf/oTZ86cwcXF5YGNLyLlz1BU2mI9ERExu5ycHA4fPkzTpk3L9KQPkVvd+De0b98+XFxc6NWrV3mXJCI30Uy4iIiIiIiZKYSLiMhjZ8WKFTg4OJS4vffee+VdnoiIbswUEZHHT48ePWjbtm2JbXrKiIhUBArhIiLy2HF0dMTR0bG8yxARuS0tRxERERERMTOFcBGRCkwPsJJ7dePfjv4NiVRMCuEiIhXQjTdA5ubmlnMl8qi6cuUKoH9DIhWV1oSLiFRAFhYWODk58d///hdra2sqVdKciZRNUVERV65c4cyZM/zvf/+jsLAQg8FQ3mWJyC0UwkVEKiCDwUD9+vX58ccfOXr0aHmXI4+g//3vf5w/f56cnByqVq1a3uWIyC0UwkVEKihra2t8fX1JSkoiNTUVa2trLCwsyrsseQTk5uZSUFBAVlYWNWvWxNfXt7xLEpFb6LX1IiIVXEFBAbt37+bMmTNa3ytlZjAYcHZ2xs/Pj5o1a5Z3OSJyC4VwEREREREz050+IiIiIiJmphAuIiIiImJmCuEiIiIiImamEC4iIiIiYmYK4SIiIiIiZqYQLiIiIiJiZgrhIiIiIiJmphAuIiIiImJmCuEiIiIiImamEC4iIiIiYmYK4SIiIiIiZqYQLiIiIiJiZgrhIiIiIiJmphAuIiIiImJmCuEiIiIiImamEC4iIiIiYmYK4SIiIiIiZmZZ3gVIxVNYWEhmZiY2NjYYDIbyLkdERETkkVNUVMTVq1epWrUqlSoVn/dWCJdiMjMzcXFxKe8yRERERB55GRkZODs7F/teIVyKsbGxAa7/o7G1tS3nakREREQePTk5Obi4uBhz1a0UwqWYG0tQbG1tFcJFRERE7sPtlvbqxkwRERERETNTCBcRERERMTOFcBERERERM1MIFxERERExM92YKbdlZxcDWJV3GXdUVBRV3iWIiIiI3DXNhIuIiIiImJlC+P8vODgYg8FQbFu1alWp58bHx+vNkiIiIiJSZlqOcpMxY8YwadIkk++qVq1aTtWIiIiIyONKM+E3sbe3x9XV1WSzsbHh6NGjhIWFUb16dapWrUpYWBg//fQTAKdOnSI0NBTAOHseFxd3x3FOnjzJM888g5OTE05OTrRt25bjx48b2//yl7/g7u5O5cqVadeuHXv27DG2RUdH06lTJ5P+Bg8eTP/+/Y37Hh4ezJgxg+7du2Nra4uPjw8JCQn3+euIiIiIyIOiEF4GV65coVevXmzfvp3t27djbW1N3759AXB3d+err74CID09nfT0dPr06XPH/kaOHEmtWrXYu3cv+/btY9SoUVSqdP0/xcqVK4mOjuaDDz4gOTmZJ554grCwMH7//fe7qvmDDz6gW7duHDhwgNDQUF544QUuXbpU4rF5eXnk5OSYbCIiIiLy8CiE32TmzJk4ODiYbCdPnqRNmzYMGTIEHx8fmjdvzieffMKePXs4ffo0FhYWVKtWDcA4e17aq97PnDlD586d8fb2pnHjxvTr14+GDRsCMG/ePEaMGEG/fv1o0qQJCxYswNbWli+++OKurqVr1668/vrr+Pj4MGfOHKpUqXLbPmJiYrCzszNuLi4udzWWiIiIiNwdhfCbREREkJycbLK5u7tz6dIlRowYQaNGjXBycsLLywu4HqbvxRtvvMHQoUPp2rUrs2bNMuknLS2Ndu3aGfctLS1p06YNaWlpdzWGv7+/8bOFhQWtW7e+bR+TJ08mOzvbuGVkZNzlFYmIiIjI3VAIv0m1atXw8vIy2aysrBg/fjyJiYnMmTOHXbt2sWPHDuD6Mo57MXz4cI4cOUJYWBjffPMNPj4+JCUllencSpUqUVRUZPJdSXXczdNarKyssLW1NdlERERE5OFRCC+DXbt2MXToULp160bTpk2Lra22srr+QpuCgoIy99mwYUNGjx5NfHw8QUFBfPnllwB4e3uza9cu43H5+fns27cPHx8fAGrUqMG5c+dM+kpJSSnW/803cxYWFrJ//368vb3LXJ+IiIiIPDwK4TfJysri3LlzJltWVhaenp6sXbuWw4cPs337dv785z+bnFe/fn0ANm3axG+//UZubu4dxxk7dizx8fGcOnWKpKQkDh06ZAzIo0ePZsGCBaxcuZKjR4/yxhtvkJOTY3z6SUBAACdPnuSvf/0rx44d4+233+bUqVPFxvj2229ZtGgRaWlpjB07losXL5o8QUVEREREyo9C+E3mzJlD7dq1Tbb58+cTGxtLUVERrVu3ZtiwYUybNs3kPA8PDyZNmkR4eDg1atQwzmrfTl5eHsOGDcPHx4eXX36ZV155hZEjRwLw8ssvExUVxcSJE2nRogWHDh1i06ZNODk5AdC8eXNmz57Nu+++i5+fH4WFhbz44ovFxpg4cSLr1q2jRYsWfPPNN6xbt07PPBcRERGpIAxFty4wlkeeh4cHkZGRDB069J7Oz8nJwc7ODpgMWD3Q2h60oqKo8i5BREREpJgbeSo7O7vE++30xky5rezsybpJU0REROQh0HKUh2DFihXFnjd+Y3vvvffKuzwRERERKWdajvIQXL58mfPnz5fY5uzsjLOzs5krujul/e8TEREREbkzLUcpB46Ojjg6OpZ3GSIiIiJSQWk5ioiIiIiImSmEi4iIiIiYmUK4iIiIiIiZKYSLiIiIiJiZQriIiIiIiJkphIuIiIiImJlCuIiIiIiImSmEi4iIiIiYmUK4iIiIiIiZ6Y2Zclt2djGAVXmXUeEUFUWVdwkiIiLyiHskZ8Lj4uJwc3O7rz769+/P4MGDH0xBD1BwcDCRkZEPtM/4+HgMBsMD7VNERERE7l2FDuG3C6R9+vThwIED5VCRiIiIiMj9eySXo9ja2mJra1veZYiIiIiI3JMKPRN+OyUtR5k3bx4NGzbEzs4OPz8/EhISTNrnz59PrVq1qFKlCuPHj6eoqMik/fz58/Tq1QsHBweqVavGq6++SlZWFgB///vfqV+/vvHYZcuWYTAY2Lx5MwAFBQU4Ojqya9cuADw8PIiNjaV3797Y29vTpEkTvvvuuzJf39WrVxk0aBD29vbUr1+fr776yqR9//79BAcHY2tri4eHB1FRUeTn5xvbU1JSaNOmDTY2NnTq1IlTp06VeWwRERERefgeyRB+q88++4y5c+eyYMECUlNTGThwIGFhYcbwmZiYyLhx45g6dSq7d+8mJyeHDRs2mPQxYMAAzpw5Q2JiIhs3bmTbtm2MHTsWgICAAE6fPs3p06cBSEpKwsXFhaSkJAAOHDhAQUEBrVu3NvY3c+ZMunfvTnJyMgEBAfTv359r166V6XoWLlyIl5cX+/fvZ9iwYfTr14/jx48DkJGRQWhoKGFhYaSkpBAXF8fKlSuJjY0Frv9B8NJLL1GvXj1++OEHRo8ezZQpU+44Xl5eHjk5OSabiIiIiDw8j0UInz59OnPnzuWZZ56hYcOGvPnmm3Tq1Inly5cDsGDBAnr27Mnrr7+Oj48P8+bNo0qVKsbzjx49ypYtW1i6dCmtW7emU6dOzJ8/n6VLl3Lp0iVq1KiBt7e3MXRv27aN0aNHs23bNuN+u3btsLL6vyeJ9OzZk4EDB9KoUSOmTp1Keno6//nPf8p0Pc2aNWPKlCl4e3szefJk2rZtyyeffALAxx9/TEhICBMnTsTLy4vg4GCmTp3K4sWLAdi8eTNnz57l008/pVmzZvTu3ZtBgwbdcbyYmBjs7OyMm4uLSxl/eRERERG5F498CL9y5Qo//fQTffr0wcHBwbht3bqVkydPApCWloa/v7/xHEtLS1q1amXcT0tLw9HRkaZNmxq/a9++Pfn5+Zw4cQK4PhuelJTE+fPnOX/+PCNGjGDfvn1cu3aNpKQkAgICTOry9fU1fnZ1dQXgwoULZbqmm2u9sZ+WlgZcX2qyYcMGk2t99dVXOXXqFIWFhaSlpeHl5UW1atVu29+tJk+eTHZ2tnHLyMgoU50iIiIicm8eyRszb3Zj3fbKlStp1qyZSZujoyMARUVFd3xE363rw4FixwcEBDBjxgy2bdtGhw4dcHZ2plGjRuzevZvt27czYsQIk+NvnhW/0VdhYWGZrulOtV65coW+ffvyzjvvFGurVKlSqddaEisrK5N6RUREROTheuRDeM2aNXF1deX06dM8//zzJR7j7e3Nnj17jPsFBQUcOHCAp59+GgAfHx8uX77M4cOHjbPhO3bswNLSEk9PT+B6CB88eDBff/01gYGBAAQGBrJw4UIyMzNp167dA7umm2sF2Lt3L23btgWgRYsWxMfH4+XlddtrPXbsGJmZmVStWtV4voiIiIhUHBU+hJ8/f57k5GST765cuWL8bDAYePvtt5kyZQoODg4EBgZy8eJF4uPj8ff356mnnmL48OF06dKFkJAQgoKCmD9/PpmZmcY+fHx86NKlC0OGDOHjjz/m6tWrjBo1ivDwcOPa8QYNGlCnTh1Wr17N8OHDgevB/OWXX6ZVq1Y4ODg8sGtOTU0lJiaG3r1787e//Y2dO3fy2WefATBixAgWLlxIREQEI0eOxMbGhoMHD/Kf//yHyMhIunbtSu3atRk6dCjTpk3j8OHDLFu27IHVJiIiIiL3r8KvCV+yZAktW7Y02W4NvG+++SYzZ85k5syZNGnShO7du7Nnzx7q1q0LQEhICLNmzSIyMhI/Pz8sLS3p0aOHSR+ff/45devWJSgoiG7duhEQEMDs2bNNjgkICMDKysq4xjowMJCCggI6der0QK952LBhHD58mJYtW7JgwQKWL19Oo0aNAHB3d2fbtm2cOXOGjh074ufnx6xZs6hXrx4AFhYW/P3vf+enn36iZcuWfPjhh0RHRz/Q+kRERETk/hiKSloQLX9oOTk52NnZAZMBrRW/VVFRVHmXICIiIhXcjTyVnZ1d4ksmK/xyFCk/2dmT9WZSERERkYegwi9Hedw8++yzJo8XvHm78TIgEREREXm8aSbczJYsWXLbN1LWqVPHzNWIiIiISHlQCDezGzeLioiIiMgfl5ajiIiIiIiYmUK4iIiIiIiZKYSLiIiIiJiZQriIiIiIiJkphIuIiIiImJlCuIiIiIiImSmEi4iIiIiYmUK4iIiIiIiZKYSLiIiIiJiZ3pgpt2VnFwNYlXcZfyhFRVHlXYKIiIiYgWbCS+Hh4cGSJUseWH9xcXG4ubk9sP5ERERE5NFj9hB+u1AbHBxMZGTkQxt3yZIleHh4PLT+RURERETKSjPhIiIiIiJmVuFC+NWrV4mIiKBmzZrY2tri4+PD119/bWzfv38/wcHB2Nra4uHhQVRUFPn5+XfsMyEhgYiICH7++WcMBgMGg4GEhAQATp48Sffu3XFwcKBOnTqMHDmS7Ozs2/ZV2vEeHh7MmDGD7t27G+u/MdbN1q5dS4MGDahatSpDhgwhNzfX2Hb+/Hl69eqFg4MD1apV49VXXyUrK8vYHhwczMSJE3nttddwdHTEw8ODVatWmfR/L7+TiIiIiJhHhQvh8+bN44cffuBf//oXhw8fZvbs2Tg5OQGQkZFBaGgoYWFhpKSkEBcXx8qVK4mNjb1jnx06dCA2NhY3NzfS09NJT0+nQ4cOXLt2ja5du9KoUSN++OEH1q9fz969exk/fnyJ/ZT1+A8++IBu3bpx4MABQkNDeeGFF7h06ZKxPSMjg2XLlrFhwwbWrVvH+vXrWbRokbF9wIABnDlzhsTERDZu3Mi2bdsYO3asyRgLFy7Ex8eHAwcOMHjwYMLDw7lw4cI9/U55eXnk5OSYbCIiIiLy8FS4EH7mzBlatmxJ69atadCgAc8++yxPPfUUAB9//DEhISFMnDgRLy8vgoODmTp1KosXL75jn9bW1jg5OWFhYYGrqyuurq5YW1uzatUqqlSpwocffoi3tzd+fn7Mnj2bzz77jIKCgmL9lPX4rl278vrrr+Pj48OcOXOoUqUKX3zxhbE9NzeXJUuW4OvrS0hICL169SIxMRGAo0ePsmXLFpYuXUrr1q3p1KkT8+fPZ+nSpSZBvmPHjowdOxYvLy8iIyOpVKkSe/bsuaffKSYmBjs7O+Pm4uJSxv9aIiIiInIvKtwjCgcMGEBoaCjJycl07dqVnj170rp1awBSUlLYsGEDDg4OxuMLCgrIy8ujsLCQSpXu7m+KlJQUDh48aNJfUVER165d4+zZs9SrV++ejvf39ze2W1hY0Lp1a9LS0ozf1ahRg1q1ahn3XV1dOXLkCABpaWk4OjrStGlTY3v79u3Jz8/nxIkTtGrVCgBfX19ju6WlJdWrVzfOhN/t7zR58mQmTZpk3M/JyVEQFxEREXmIzB7CnZyc+P3334t9f+nSJZycnPD39+enn37in//8J9988w0dO3Zk+vTpTJgwgStXrtC3b1/eeeedYuffbQAHuHLlCoGBgSxcuLBYW+3ate/5eIPBcMdxraxMn71tMBgoLCwErof6W5XU3536uNvfycrKqlh/IiIiIvLwmD2EN2rUiOTkZJPvLl++zPHjx2ncuDEAzs7ODBgwgAEDBtCiRQs+++wzJkyYQIsWLYiPj8fLy+uux7Wysiq2xKRFixZs2LABNzc3bGxsSu2jrMffWBYCUFhYyP79+41Lakrj4+PD5cuXOXz4sHE2fMeOHVhaWuLp6VmmPu7ndxIRERGRh8/sa8JHjRrF6tWrmT9/PseOHWP//v0MHDgQV1dXwsLCmD17NmvWrOHYsWOkpKSwefNmvL29ARgxYgQnTpwgIiKCgwcPkpaWxldffcX06dNLHbd+/fqcP3+effv28dtvv5GXl0e/fv2wtramT58+7N27l+PHj7Nx40YmTJhQYh9lPf7bb79l0aJFpKWlMXbsWC5evEj//v3L9Pv4+PjQpUsXhgwZwg8//MD333/PqFGjCA8Pp0qVKmXq435+JxERERF5+MwewoOCglizZg1ffPEFrVu35rnnnsPKyor4+Hisra2xt7fn3XffpUWLFgQHB+Ps7Mxf//pXANzd3dm2bRtnzpyhY8eO+Pn5MWvWrGJrt0sSGBhI37596dy5MzVq1OD777/H0dGRhIQErK2tCQ0NpUWLFkRGRpa4FAUo8/ETJ05k3bp1tGjRgm+++YZ169ZRtWrVMv9Gn3/+OXXr1iUoKIhu3boREBDA7Nmzy3z+/fxOIiIiIvLwGYpKWoQs98zDw4PIyEiGDh1a3qXcs5ycHOzs7IDJgNaKm1NRUVR5lyAiIiIPwI08lZ2dja2tbbH2Cvd0FKk4srMnl/iPRkRERETuT4V7Tvi9WrFiBQ4ODiVu7733XnmXJyIiIiJi9NgsR7l8+TLnz58vsc3Z2RlnZ2czV/ToKu1/n4iIiIjInf1hlqM4Ojri6OhY3mWIiIiIiJTqsVmOIiIiIiLyqFAIFxERERExM4VwEREREREzUwgXERERETEzhXARERERETNTCBcRERERMTOFcBERERERM1MIFxERERExM4VwEREREREze2zemCkPnp1dDGBV3mX84RQVRZV3CSIiIvKQaSb8HvXv35/BgweXy9gGg4H4+PhyGVtERERE7p9ZQnhwcDAGgwGDwYCtrS2enp4MHjyYgwcPmmP4CmvJkiV4eHjc9Xnp6ekEBgY++IJERERExCzMNhM+ZswY0tPTSUtL49NPPyUvLw8/Pz82btxorhIeG66urlhbW5fYlpeXR1FRkZkrEhEREZG7YbYQbm9vj6urK/Xq1SM4OJgVK1YwcOBAhg8fTl5eHgDz5s2jYcOG2NnZ4efnR0JCgvH8kydP8swzz+Dk5ISTkxNt27bl+PHjxvZVq1bh6+tL5cqVcXNzY/r06Sbndu/eHQcHB+rUqcPIkSPJzs42tnt4eBAbG0vv3r2xt7enSZMmfPfddyb1z58/n1q1alGlShXGjx9f5qCbkZFB7969cXZ2xt7enhYtWrBz504SEhKIiIjg559/Nv5fgoSEBHJzcxk4cCDu7u7Y29vTunXrYrXcvBwlISEBg8HAN998Q7NmzbC1tSUjI4MtW7bQsmVLbG1tqV69Ot26dSvbfygREREReejKdU34m2++ydmzZ9m/fz+fffYZc+fOZcGCBaSmpjJw4EDCwsI4deoUACNHjqRWrVrs3buXffv2MWrUKCpVul7+5s2bGThwIOHh4aSmprJmzRpq164NwLVr1+jatSuNGjXihx9+YP369ezdu5fx48eb1DJz5ky6d+9OcnIyAQEB9O/fn2vXrgGQmJjIuHHjmDp1Krt37yYnJ4cNGzaU6RqnTJnC5cuX2bZtG4cOHSIqKgpra2s6dOhAbGwsbm5upKenk56eTocOHcjPz6dx48Zs3LiRgwcP0qNHD55//nkuXLhwx3GmTp3K4sWLSUlJwcnJiV69ejF48GCOHj3Kd999R2ho6G3PzcvLIycnx2QTERERkYfHUGSGtQvBwcF06tTJZHYaIDc3FxsbG1atWsX/+3//j3nz5vHcc88Z27t06UJgYCCRkZH4+voyceJEBgwYUKz/oKAgfH19+eijj4q1ff7558ybN499+/YZv9uxYwchISFkZ2djYWGBh4cHYWFhLFiwALiqzU3hAAAgAElEQVS+5rpOnTqkpKTQvHlz+vTpg8FgYNWqVQDk5+fj4eFB586diYuLu+O1d+/eHX9/f6ZMmVKsbcmSJUyfPt34h8bt+Pj48PbbbzNw4EDg+kz4li1b6Ny5MwkJCYSEhJCQkEBQUBBwffa9evXqnD59Gnd39zv2DRAdHc3UqVNLaJmMno5ifno6ioiIyKMvJycHOzs7srOzsbW1LdZerjPhN/J/bm4uP/30E3369MHBwcG4bd26lZMnTwLwxhtvMHToULp27cqsWbM4c+aMsZ/U1FSCg4NLHCMlJYWDBw+a9BsaGsq1a9c4e/as8ThfX1/jZ1dXVwDj7HNaWhr+/v7GdktLS1q1alWma4yIiOC9994jICCAadOmkZaWVuo5s2bN4oknnsDZ2RkHBweOHTtmcr0ladmypfGzi4sLffv2pXnz5vTt25elS5dy5cqV2547efJksrOzjVtGRkaZrk1ERERE7k25hvCjR48C4O3tDcDKlStJTk42bkeOHOH9998HYPjw4Rw5coSwsDC++eYbfHx8SEpKKnWMK1euEBgYaNLvwYMHOXbsmHHJCoCV1f/N+BoMBgAKCwuB638s3PjubvXo0YOTJ08yYMAA9u/fzxNPPMHq1atve/zy5cuZNm0a48ePZ+vWrSQnJ9O0aVPjuvnbsbOzM9n/8ssv2bx5M97e3syaNYvmzZvfNlxbWVlha2trsomIiIjIw1OuIXz+/Pm4u7vTqlUrXF1dOX36NF5eXiZbrVq1jMc3bNiQ0aNHEx8fT1BQEF9++SUAzZs3N7mJ82YtWrTg6NGjuLm5Fev75uB9J97e3uzZs8e4X1BQwIEDB8p8nbVr12bYsGF8/fXXvPrqqyxbtgy4Hn4LCgpMjt21axdPPfUUgwYNokWLFsbf5V60bduWqVOncuDAATIzM/n3v/99T/2IiIiIyINltjdmZmVlce7cOa5du8bJkydZvHgxa9euZd26dVhZWfH2228zZcoUHBwcCAwM5OLFi8THx+Pv789TTz3F2LFj6datG15eXpw5c4ZDhw7RtWtX4Ppyiueeew5PT0+ee+45Ll68yI8//kh4eDj9+vVjxowZ9OnTh8jISKpVq8aRI0dITExk1qxZZap9+PDhdOnShZCQEIKCgpg/fz6ZmZllOjcqKgo/Pz+aNm3K//73P77//nueeuopAOrXr8/58+fZt28fHh4eVKlSBU9PT7766iuSkpJwdnbmnXfeMc7Il9VPP/3EkiVL6NGjB66urmzfvp0rV67QqFGju+pHRERERB4Os4XwOXPmMGfOHCpXrkydOnUIDAxk7969PPHEE8D1J6VUrlyZmTNn8tprr+Hi4kL79u158cUXgetP8Bg2bBi//PIL1atX55VXXmHkyJHA9Rs4ly5dyvTp05k0aRK1atXijTfeAMDR0ZGEhAQmTJhAaGgoeXl5eHl5GW9yLIuQkBBmzZpFZGQkV69eZciQIfTo0aNM51paWjJhwgROnTpFlSpV6NGjh/EG1cDAQPr27Uvnzp25dOkSW7du5fXXX2fPnj2EhYXh6OjIxIkTOX/+fJlrhetLU1JTU/n000/JzMykYcOGfPbZZybrxkVERESk/Jjl6SjyaLlxN6+ejlI+9HQUERGRR19pT0cx20y4PHqysyfrJk0RERGRh6Bcb8x8HCQlJZk8/vDm7fXXXy/v8kRERESkAtJM+H1q06YNycnJJbY5OTmZuRoREREReRQohN8nW1tbvLy8yrsMEREREXmEaDmKiIiIiIiZKYSLiIiIiJiZQriIiIiIiJkphIuIiIiImJlCuIiIiIiImSmEi4iIiIiYmUK4iIiIiIiZKYSLiIiIiJiZXtYjt2VnFwNYlXcZ8ogqKooq7xJEREQqLM2Ei4iIiIiYmUL4A5aQkIDBYCA/P/+uzz116hQGg4Hjx4/f8/jR0dF06tTpns8XERERkYfvsQ/hp06dYvDgwdSpUwcbGxsaN27MqFGj+O9//1vepT0UEyZMYMOGDeVdhoiIiIjcwWMdwtPS0mjTpg0ZGRmsXr2a//znPyxbtoz8/Hxmz55d3uU9FA4ODjg7O9+2PTc314zViIiIiEhJHusQPmLECDw9PdmwYQMBAQHUq1eP9u3bs2DBAqZMmQLAX/7yF9zd3alcuTLt2rVjz549xvPj4uJwc3Nj1apVNGjQAAcHB958800KCgqYMmUKLi4uuLm5sXz58mJjb968mcaNG2Nra8tLL71EZmZmmetOTU3F398fe3t7goODOX36tLFtw4YNtGvXDkdHR+rUqcMbb7xBVlaWsf3W5SjBwcFMmDCBiIgInJycGD9+/F39hiIiIiLy4D22Ify3337ju+++Y9y4cRgMhmLtVatWZeXKlURHR/PBBx+QnJzME088QVhYGL///rvxuIyMDFauXMnGjRtZvXo1ixYt4tlnn6WwsJCdO3cyfPhwIiIi+PXXX036j4qKYtmyZWzdupWjR48yZsyYMtceHR3NjBkz2LNnD9nZ2YwdO9bYdvXqVSZPnszBgwdZtWoVW7duZerUqXfsb+HChXh6erJ///4SQ3heXh45OTkmm4iIiIg8PI9tCD9x4gRFRUV4e3vf9ph58+YxYsQI+vXrR5MmTViwYAG2trZ88cUXxmNyc3NZvHgxzZs3p1u3boSEhPDLL78QExND48aNeeutt7CwsGDXrl0mfb/77ru0b9+edu3aMW/ePFasWFHm2fC3336bkJAQmjVrxtixY0lMTDS2/elPf6J79+40bNiQwMBAoqKiWLt27R37a9OmDW+99RZeXl40aNCgWHtMTAx2dnbGzcXFpUx1ioiIiMi9eWxDeFmkpaXRrl07476lpSVt2rQhLS3N+F2NGjWoVauWcb9WrVo0a9bMuG9hYYGLi0uxmXB/f3+Tz/n5+Zw4caJMdfn6+ho/u7q6kpGRQUFBAQCHDx/mxRdfpF69ejg6OhIeHs6ZM2fu2F/Lli3v2D558mSys7ONW0ZGRpnqFBEREZF789iGcE9PTwwGg0mgvhdWVqYvqzEYDCV+V1hYWOy7kj7f7Zg3zi0qKgKgR48eGAwGVqxYwb59+5g3b16pj0O0s7MrdTxbW1uTTUREREQensc2hFevXp2QkBDmzJljDLA3u3TpEt7e3ibLSPLz89m3bx8+Pj73Pf7NN3ju2bMHS0tLPD0976vP3377jRMnTvDOO+8QEBCAt7c3586du99SRURERMTMHuvX1n/00Ud07NiRzp07M2nSJBo3bsz58+dZvnw51tbWjB49moiICJ588klatWrFhx9+SE5ODv3797/vsadMmULVqlUBGD16NK+88opx/15Vq1aNatWqsXjxYsaPH8/evXtZuHDhfdcqIiIiIub12M6EAzRp0oR9+/bh5ubGoEGD8PHxoX///hgMBsaNG8fLL79MVFQUEydOpEWLFhw6dIhNmzbh5OR032NPmTKFfv36ERQUhJeXF3PmzLnvPi0sLFixYgWbN2+mWbNmLFy4kGnTpt13vyIiIiJiXoaiktZqyB9aTk4OdnZ2ZGdna324iIiIyD0oLU891jPhIiIiIiIVkUK4GZ0+fRoHB4cSt2effba8yxMRERERM3msb8ysaOrUqUNycnKJbVr2ISIiIvLHoRBuRpaWlnh5eZV3GSIiIiJSzrQcRURERETEzBTCRURERETMTCFcRERERMTMFMJFRERERMxMIVxERERExMwUwkVEREREzEwhXERERETEzBTCRURERETMTC/rkduys4sBrMq7DHmMFRVFlXcJIiIi5UIz4SIiIiIiZvZIhPCEhAQMBgP5+fl3dV5kZCTBwcEPp6iH5F6v9WaDBw+mf//+D7AqEREREXmQKkwIT09PJzw8nLp162JjY0O9evXo3bs3Fy5coEOHDqSnp2NpeX31zKMYrs1p7ty5fPzxx+VdhoiIiIjcRoVZE96zZ08qV67MmjVrqFOnDj///DMbNmwgKyuLmjVr4urqWt4lPjKqVKlyx/Zr165hbW1tpmpERERE5FYVYiY8MzOTnTt3MmvWLDp06ICHhwdBQUHExsbSoEEDkyUacXFxxMTEkJiYiMFgwGAwcOrUKQDWrFlD/fr1sbe3Z9CgQVy9etVknKysLIYOHUq1atVwcHCgZ8+enD9/HoD9+/dTuXJl4zk3+l+0aJHx/CZNmrBq1SoAgoODmThxIq+99hqOjo54eHgY28pi3rx5eHl5UblyZRo2bMiSJUtM2hMTE2natCmOjo688MILXLx40dj26aef8uSTT2Jvb0/9+vWZMmWKyfKVW5ejeHh4MGPGDHr27ImdnR3z5s0rc50iIiIi8uBViBBub2+Pvb0969evL3UtdJ8+fRgzZgzt27cnPT2d9PR03N3dOXHiBK+88gpDhw5l//79eHl5sXDhQpNzx44dS2JiIuvXr2fbtm2cPXuWAQMGANCiRQtsbGzYs2cPAElJSbi4uJCUlATAr7/+ytGjR+nUqZOxv4ULF+Lj48OBAwcYPHgw4eHhXLhwodTrXbx4MZGRkUyePJnDhw/z6aef4uTkZHLM9OnTiYuLY+vWraSkpDB9+nRjW2FhIbNmzSI1NZVPPvmEJUuWmPyxUJKZM2fyzDPPkJqaSt++fU3a8vLyyMnJMdlERERE5OGpECHcysqKxYsXM2fOHKpVq8bTTz/Ne++9x9mzZ4sda2tri729PdbW1ri6uuLq6oqFhQWLFi2idevWTJkyBW9vb6ZMmUKzZs2M512+fJmlS5cyd+5cAgMDadWqFXFxcWzZsoUff/wRCwsL2rdvbwzd27ZtY/To0Wzbtg24HsobNGiAm5ubsc+OHTsyduxYvLy8iIyMpFKlSsYQfyfTp0/nnXfeITw8HE9PT0JCQvjTn/5kcsyMGTPw9/enTZs2DB06lMTERGNbREQEnTt3pkGDBjz77LOMHj2atWvX3nHMHj16EBERQcOGDU2uASAmJgY7Ozvj5uLiUuo1iIiIiMi9qxAhHODll1/ml19+YcWKFfj5+REXF0fTpk05ePBgmc5PS0vD39/f5Lub90+ePEl+fj7t2rUzfufj40PVqlVJS0sDICAggKSkJAoKCti1axevvfYaWVlZnD59mqSkJAICAkz69/X1NX62tLSkevXqpc6EX758mdOnT5d6Y+nNfbu6upr0u2PHDrp06ULdunVxcHAgOjqaM2fO3LG/li1b3rZt8uTJZGdnG7eMjIw79iUiIiIi96fChHAABwcHevTowQcffMCPP/6Iu7s7sbGxZTq3qKgIg8Fwx/bSBAQEsGPHDvbu3UvdunWpWbMmnTp1Ytu2bWzbtq1YCLeyMn2RjcFgoLCwsNQ6y+Lmvm/u9/Lly3Tr1o0GDRrwt7/9jf379/PWW2+Rl5d3x/7s7OzuOJatra3JJiIiIiIPT4UK4TezsrKiYcOGZGVlldhWUFBg8p23t3expSB79+41fvb09MTS0pJdu3YZvzt69CiZmZn4+PgA12fOr127xkcffURgYCAAgYGB/POf/+TgwYPFQvi9cHJyol69eiQkJNzT+WlpaWRmZjJjxgzatWtH48aNS50FFxEREZGKpUKE8PPnz9OlSxdWr17N4cOHOXbsGLNnz2bTpk1079692PH169cnLS2No0eP8ttvv1FYWMiwYcPYu3cvMTEx/Oc//yEmJobU1FTjOY6OjgwZMoQxY8aQlJTE/v37GTx4MKGhoTRt2hQAGxsb2rRpw6pVq4yBOyAggDVr1uDs7Iy3t/cDud7IyEimTZtGXFwcJ0+eJCkpiTVr1pTp3Hr16mFlZcWCBQs4efIkn3zyCV9//fUDqUtEREREzKNChHAnJyeefPJJ3n//fdq1a0fr1q35/PPPWbBgAYMHDy52fK9evfD398fPz48aNWpw+vRpvLy8WL58OQsXLqRly5YcPnyYYcOGmZwXGxtLQEAA3bt3JzAwkLp16/LFF1+YHBMQEEBBQYFxJrxVq1bY2tqaPBXlfkVERDB16lSmTp1KkyZNCA8P5/Lly2U6t2bNmixatIgFCxbg6+vL5s2beeuttx5YbSIiIiLy8BmKyrpIWf4wcnJysLOzIzs7W+vDRURERO5BaXmqQsyEi4iIiIj8kSiEPwSvv/46Dg4OJW43nkMuIiIiIn9cWo7yEFy4cIHff/+9xLa6detW+CUeWo4iIiIicn9Ky1OW5VDTY69mzZrUrFmzvMsQERERkQpKy1FERERERMxMIVxERERExMwUwkVEREREzEwhXERERETEzBTCRURERETMTCFcRERERMTMFMJFRERERMxMIVxERERExMz0sh65LTu7GMCqvMuQP4iioqjyLkFERMRsNBMO9O/fn8GDB5d3GQB4eHiwZMmSez4/ISEBg8FAfn7+A6xKRERERB6kcg3h6enphIeHU7duXWxsbKhXrx69e/fmwoULxMfHYzAYyrO8R1KHDh1IT0/H0lL/k0NERESkoirXpNazZ08qV67MmjVrqFOnDj///DMbNmwgKyurPMt6pFlbW+Pq6nrb9tzcXCpXrmzGikRERETkVuU2E56ZmcnOnTuZNWsWHTp0wMPDg6CgIGJjYzEYDISGhgJgMBgwGAzExcUBMGbMGBo2bIidnR3NmjVj9erVJv16eHgQGxtL7969sbe3p0mTJnz33Xcmx8yfP59atWpRpUoVxo8fT1FRkUm7wWAgPj7euH/q1CkMBgPHjx8HIC4uDjc3N7744gvc3d1xcHAgIiKCa9eulenaf/jhB5566ins7OxwdnbmhRdeMGm/dOnSbes/evQoYWFhVK9enapVqxIWFsZPP/1kbL91OUp0dDSdOnVi9uzZ1K1blzZt2pSpRhERERF5eO46hF+8eJG1a9dy8ODB+xrY3t4ee3t71q9fX2z9sru7O1999RVwfclKeno6ffr0AcDFxYVVq1aRmprKm2++yYABA0hJSTE5f+bMmXTv3p3k5GQCAgLo37+/MSAnJiYybtw4pk6dyu7du8nJyWHDhg13XX9GRgaffvop//jHP1i3bh3//Oc/ee+990o979dff+Xpp5+mYcOG7N69m8TERNq3b1/m+q9cuUKvXr3Yvn0727dvx9ramr59+95xzOTkZHbv3s3mzZuNv6uIiIiIlB9D0a3TwLfo3r07oaGhjBo1iqysLHx9fbl48SJZWVksXbqUfv363fPgX375Ja+99hpFRUX4+/vz9NNPM2jQIOrWrUt8fDyhoaHFZqlv9cwzz9ChQwfeeecd4PpMeFhYGAsWLACuh/g6deqQkpJC8+bN6dOnDwaDgVWrVgGQn5+Ph4cHnTt3Ns62GwwGtmzZQufOnYHrM+ENGjTg2LFjeHl5ERcXR3h4OEeOHMHHxweAJUuW8NZbb/Hbb7/dsd6oqCj+/ve/c+jQoRLXvJdW/63OnTtH7dq1+fnnn6lXrx4JCQmEhISQl5eHpaUl0dHRxMbGkp6ejoODQ4k15eXlmfwhlJOTg4uLCzAZPR1FzEVPRxERkcdJTk4OdnZ2ZGdnY2trW6y91JnwXbt28dRTTwGwZs0a7O3tuXDhAkuXLuX999+/r+JefvllfvnlF1asWIGfnx9xcXE0bdr0jrPsy5Yto02bNlSvXh0HBwf+/e9/c+bMGZNjfH19jZ9vrI++cOECAGlpafj7+xvbLS0tadWq1V3X7ujoaAzgAP7+/mRkZJCRkXHH81JTUwkKCrrjTad3qv/SpUuMGDGCRo0a4eTkhJeXF0Cx3+BmjRo1um0AB4iJicHOzs64XQ/gIiIiIvKwlBrCs7KyqFKlCgDffvstvXr1wsrKioCAAE6ePHnfBTg4ONCjRw8++OADfvzxR9zd3YmNjS3x2KSkJCIiIhgwYABbtmwhOTmZzp07k5eXZ3KcldX/zd7eCLuFhYUAFBUVlfrUFYPBYDIDf2v/N/d7t0qb2Yc71z9+/HgSExOZM2cOu3btYseOHbet8QY7O7s7jjd58mSys7ONW2l/SIiIiIjI/Sk1hPv4+LB+/XrOnj3Lv/71L8LCwoDryyCqVq36QIuxsrKiYcOGZGVlGYNoQUGBsX337t00bdqU0aNH07JlSxo2bMiJEyfuagxvb2/27Nlj3C8oKODAgQMmx9SoUYNz584Z929dcw7w+++/k5aWZtzfu3cvLi4upc4i+/r6sm3btjKF8ZLs2rWLoUOH0q1bN5o2bcqlS5fuqZ+bWVlZYWtra7KJiIiIyMNTagifMWMGkZGR1KtXj7CwMPz8/ADYsGGDybKOu3X+/Hm6dOnC6tWrOXz4MMeOHWP27Nls2rSJ7t27U79+fQA2bdrEb7/9Rm5uLp6enqSlpfGPf/yDtLQ03nzzTZOwXBbDhw9n7dq1LFq0iLS0NEaPHk1mZqbJMYGBgcydO5fU1FQSExOZPn16sX5sbGwYPnw4Bw8e5N///jdRUVGMGDGi1PFHjhzJ6dOniYiIICUlhcOHDzNr1qwy1+/p6cnatWs5fPgw27dv589//nOZzxURERGRiqHU54SHhoaSkZHBpUuXcHZ2Nn4/dOjQUpc53ImTkxNPPvkk77//vnFZi6enJwsWLDC+vXLSpEmEh4eTkZHB0qVLGTRokHE5SqVKlYiIiKB79+53NW5ISAizZs0iMjKSq1evMmTIEHr06GFyTGxsLIMGDaJt27b4+PgQHR3N888/b3KMi4sLAwcOJCwsjMzMTPr27cvbb79d6vg1atQgPj6ecePG4efnh729PUFBQWWu/0ZtrVu3pkGDBsyZM4euXbuW+XwRERERKX+lPh3l999/B66HZoATJ06wbt06vL297zoAPy7i4uKIjIzkv//9b3mX8lDcuJtXT0cRc9LTUURE5HFS2tNRSp0Jf/755+nXrx9Dhw4lIyODdu3aUatWLc6cOUNUVBTjxo17KIVL+cvOnqz14SIiIiIPQalrwg8ePEjHjh0BWL16NV5eXqSmpvLll18an2Ut/ycpKQkHB4cSt9dff728yxMRERGRCqDUmfBr164Z135v2bKFF198EYDmzZtz9uzZh1tdBTV48GDjuvVbtWnThuTk5BLbbizpEREREZE/tlJDeMuWLVm4cCHdunXj22+/JSYmBoDTp09To0aNh17go8bW1tb4Ah0RERERkZKUuhxl3rx5rF+/nrCwMMaMGUPTpk2B62/PvLFMRUREREREyq7Up6PcztWrV7GwsDB5u6M8Hkq7m1dERERE7uy+n45yOzY2NvdVmIiIiIjIH1Wpy1FycnJ466238PLyonLlylhYWJhsIiIiIiJyd0oN4RMmTGDjxo3ExMRgYWHBwoULiY6Opk6dOnz66afmqFFERERE5LFS6prwunXrsnr1ajp16oSTkxM//PADjRo1YvXq1SxevJj4+Hhz1SpmojXhIiIiIventDxV6kz45cuXcXd3B6BatWpcuHABAH9/f3bu3PmAyxURERERefyVemNms2bNSE1NpX79+rRu3ZrZs2fj6OjI4sWLcXNzM0eNIiIiIiKPlVJD+Ntvv01OTg4AMTEx9OjRgyeffBJnZ2dWrFjx0AsUEREREXnc3NNzwjMyMqhWrRqVKpW6mkUeQTfWMMFkQM+Bl8dPUVFUeZcgIiKPufteE14SFxeXP2QAHzx4MP379y/vMkoVHR1Np06dyrsMEREREbmNEpO0u7s79erVK9NWXoKDgzEYDBgMBiwsLHBzc2P06NHk5uaWW013EhkZSXBw8APvt1OnTkRHRz/wfkVERETk4SlxTfj06dPNXcc9GTNmDJMmTaKgoIAjR44QHh6Oo6NjifXn5uZSuXLlcqhSRERERMRUiTPhgwYNMm7Vq1endu3aJt8NGjQIV1dXatasae56Tdjb2+Pq6krdunXp3LkzPXv25MCBA8D1pSP9+vXjrbfeonr16vTq1YtTp05hMBg4fvy4sY+EhAQMBgP5+fkA7N+/n06dOmFvb0+1atUICgoiMzPTZNzIyEicnZ2pU6cOH374Yal1xsXFERMTQ2JionH2/tSpU8bxgoODsbW1xcPDg6ioKGMtAL/++iv9+vWjatWqVK9enX79+pGRkWG8xu+//56pU6diMBjw8PAwGfejjz6idu3aVK9enYkTJ3IPy/9FRERE5CEodWH37cJbpUqVmDhx4kMp6l6cOXOG+Ph4/Pz8jN+tX7+enJwcvv/++zKFZYD+/fvTsWNHUlJS2L59O/369TNp37BhA3l5eezatYvo6GjGjx/PoUOH7thnnz59GDNmDO3btyc9PZ309HTc3d3JyMggNDSUsLAwUlJSiIuLY+XKlcTGxhrP7dWrFwBJSUkkJCSQmZlpXJc+d+5c/P39/7/27jwsqrL/H/h7GLYZZlR2UEAFBAQNUSRDgbG0xcLtsdVIKfFxiVyyxxIRJbTcAjUt1/AxTU2xXMoUN6gUd0XJSTES/YEKpoWMynL//vDxfJ1YFZhJeL+u61zXzLnvc87nzD16febmM/fg3XffRV5eHg4dOiQdd/LkSRw6dAi7d+/GsmXLkJSUhK1bt9bqNSAiIiKihlXjEoXnz5+Hl5dXhf3t2rVDdnZ2gwRVW7NmzUJSUhLKyspw69Yt9O7dGzExMVK7o6MjEhMTpS+R3pt9rk5ubi5eeOEFuLu7A7i7Tvr9XF1dMXPmTACAl5cX5s6di7S0NDz22GNVnlOhUMDKygrm5uZwcnKS9i9cuBA9e/aUPsx4enpi2rRpmDJlCiZOnIi0tDRotVrs2rULpqZ3h2rp0qVo1aoVLl68CBcXF5iZmUGlUumdFwBMTU2xePFiWFpaon379ujZsyf27duH8PDwCvGVlJTozb7fW5KSiIiIiBpGjTPhDg4Olc70Hjt2DDY2Ng0SVG1FRUXh+PHjOHHiBLZv346LFy9i7NixUru/v/8Dr+Ly9ttv4+mnn0b//v2xcOFCFBQU6LV36NBB77mTk5P0K6IPKjMzE1CyAsgAACAASURBVJs3b4ZKpZK2t956Czk5OSgvL0dmZiauXr2KFi1aSO33PhCdP3++2nO3a9cOlpaWtYpz+vTpUCqV0mZra/tQ90NEREREtVPjTPiQIUMwatQolJeXIywsDMDdOup33nkHkZGRDR5gdaytreHp6Qng7qx0XFwcBg8ejDlz5gDA/9a6/j/3EvL7y2tKSkr0+nz00UcYPHgwtm7dilWrVmHKlCk4cOAA2rVrBwAwM9NfN1smk6G8vPyh4i8qKsIrr7yCKVOmVGgzMTFBUVERPD09sW3btgrtrVq1qvbclcVZVlZWad+YmBhMnDhReq7T6ZiIExERETWgGpPwuLg4lJWV4bXXXsOdO3cAABYWFhg/fvw/bmk8U1NTlJWVSXH+nb29PQAgPz9fSqozMzMr9OvQoQM6dOiA999/H35+fti0aVOd69/NzMwqJMH+/v5ITU2VPkj8nb+/Py5cuIBmzZpV+SXYys77MLH9PWknIiIiooZTY62GXC7H9OnT8ccff+DEiRM4fvw4rl27hoSEBMjlckPEWKWbN28iPz8feXl5+Omnn5CQkIAePXqgefPmlfZXKBQIDAzERx99BK1Wiy1btmDRokVSu06nwzvvvIP09HT8/vvv+O6773DhwgV4e3vXOdbWrVtDq9XizJkzKCgoQHl5OUaPHo3s7GxERUXhxIkT0Gq1WL9+vbTE4tNPP42OHTti4MCBSE9Px/nz57Fz504MHz5c77wHDhzApUuX8Mcff9Q5TiIiIiJqeLUumLa0tESHDh3QsWNHvVpjY0pKSoKzszNatWqFQYMGwc/PD+vWrav2mOXLl+PKlSsICAjA3Llz9UpB5HI5rly5gldffRVeXl54++23MWXKFPTr16/OsQ4aNAhBQUHo2rUr7O3tceHCBbi6uiItLQ25ubno3r07unbtijlz5kg/gmRiYoLt27fD29sbAwcOhJ+fH6Kjo9GiRQvpvBMmTEBhYSHc3d0REBBQ5ziJiIiIqOHJBBePpr/R6XT/q6ePAcAyFWp8hIgzdghERNTI3cuniouLoVAoKrTXWBNOTVdxcUylbxoiIiIiqpsHW7+PqjRjxgy9pQbv31avXm3s8IiIiIjoH4TlKPXk2rVruHbtWqVtjo6OUKvVBo7o4dX05xMiIiIiqh7LUQzExsbG6D9eRERERESPBpajEBEREREZGJNwIiIiIiIDYxJORERERGRgTMKJiIiIiAyMSTgRERERkYExCSciIiIiMjAm4UREREREBsYknIiIiIjIwJiEExEREREZGH8xk6qkVE4HYGbsMIgMTog4Y4dARESNHGfCiYiIiIgMrEkn4RqNBjKZrMK2du3aGo9NTU2FTCYzQJR14+LiguTkZGOHQURERET3afLlKGPHjsXEiRP19rVo0cJI0RARERFRU9CkZ8IBwMrKCk5OTnqbpaUlzpw5gz59+sDOzg4tWrRAnz598NtvvwEAcnJy0Lt3bwCQZs9rmm1OTk6Gi4sL1q5di7Zt20KlUiE6OhplZWWIjY2Fra0tXFxc8OWXX+odd/ToUWg0GigUCrRp0wZxcXEoLS2V2seOHQt3d3colUr4+flh3bp1UptGo8GlS5cQGRkJmUwGjUZTPy8aEREREdVJk0/Cq1JUVIRBgwbhxx9/xI8//ghzc3O88sorAABXV1esX78eAJCXl4e8vDy8/PLLNZ6zsLAQa9aswZYtW7Bu3TosWbIEzz33HMrLy7F//36MHDkSUVFRuHr1qtS/d+/e6NOnDzIzM5GcnIw1a9Zg7ty50jltbW2xdu1anDp1CtHR0YiIiEBmZiYAICUlBc7OzkhKSkJeXh5SUlIqjaukpAQ6nU5vIyIiIqKGIxNCCGMHYSwajQY///wzzM3N9fafPHkS7u7uevvy8/Ph7OyM33//HW5ubkhNTUXv3r1R25cvOTkZb775JvLy8uDo6AgAePbZZ3Hx4kWcOnUKAFBWVobmzZvjq6++Qnh4OOLj43Hy5Els2LBBOs+aNWswZcoUnDt3rtLrPPvsswgODsaUKVMA3K0JT0hIwNChQ6uMberUqZg2bVolLTHg6ijUFHF1FCIiqiudTgelUoni4mIoFIoK7U2+JjwqKgrjxo3T2+fq6oobN25g0qRJ2LFjBy5fvozy8nIAQG5uLtzc3B7qWvb29lICDgCOjo5o3ry59Fwul8PW1laaCc/MzMTmzZuhUqmkPmVlZSgpKUF5eTlMTEywcuVKLFiwADk5Obh16xZu374NV1fXB4orJiZGry5ep9PB1tb2oe6RiIiIiGrW5JNwa2treHp6Vtj/7rvv4sCBA0hKSkLbtm1RWloKf39/lJSUPPS1zMz0Z5VlMlml++4l/EVFRXjllVekWe37mZiYID09HVFRUZg9ezZCQ0OhVqsRHR39wDGamZlViIOIiIiIGk6TT8KrcuDAAQwbNgzPP/88ACA9PV2v/V7SWlZWBrlc3iAx+Pv7IzU1tdIPCQCQkZEBX19fjBkzBgBQXl6O7Oxsvdl2MzMzlJWVNUh8RERERPRwmvwXM2/evIn8/Hy97ebNm/Dw8MCGDRuQlZWFH3/8Ee+9957eca1btwYAfPfddygoKMDt27frPbbRo0cjOzsbUVFROHHiBLRaLdavX4+EhAQAgIeHB7RaLbZu3QqtVovo6Gjk5+dXiDMtLQ35+fm4ceNGvcdIRERERA+uySfhSUlJcHZ21tsWLFiAuXPnQgiBLl26YPjw4YiPj9c7rk2bNpg4cSIiIyNhb2+Pr776qt5jc3V1RVpaGnJzc9G9e3d07doVc+bMkWrS+/fvj6ioKERERCA4OBhqtRrh4eF655g6dSoyMjLg6uqKfv361XuMRERERPTgmvTqKFS5e9/m5eoo1FRxdRQiIqorro5CD624OKbSNw0RERER1U2TL0epL6tXr4ZKpap0mzFjhrHDIyIiIqJ/EJaj1JO//voLly9frrTNxsYGNjY2Bo7o4dX05xMiIiIiqh7LUQxErVZDrVYbOwwiIiIiegSwHIWIiIiIyMCYhBMRERERGRiTcCIiIiIiA2MSTkRERERkYEzCiYiIiIgMjEk4EREREZGBMQknIiIiIjIwJuFERERERAbGJJyIiIiIyMD4i5lUJaVyOgAzY4dBRPVMiDhjh0BE1OQ1ypnwqVOnokePHtJzjUaDyZMn1+mcbdq0wbJly+oaWr34+/0RERER0aPlkU3Cc3JyMHToULRs2RKWlpbw8vLCO++8g4sXL1bom5KSgvfff98IUdbMxcUFycnJD3TMhAkTsHnz5oYJiIiIiIga3COZhGu1WgQGBqKwsBDr1q3Dr7/+ipUrV6K0tBSJiYkV+tvY2EClUhkh0oahUqlgY2NTZfvt27cNGA0RERERPahHMgkfPXo0PDw8sHnzZoSEhMDNzQ1PPPEEFi1ahNjY2Ar9/16OIpPJsGLFCjz55JNQKBQICgrC+fPnsXfvXnTo0AHNmjVDREQEbt26pXeewsJChIeHQ6FQwMfHB3v37q1VvF999RV8fHxgaWkJJycnDB8+XIrr0qVLiIyMhEwmg0ajAQBs3rwZ3bp1g1qtRsuWLTFq1CjcvHlTOl9l5TYTJkxAVFQUmjVrhnfffRe3bt1CVFQUHBwcpHi/+eab2r7ERERERNSAHrkkvKCgALt378b48eMhk8kqtLdo0aJW50lISMC4ceNw9OhRmJqa4rXXXkNCQgKSk5Px/fff4/vvv8fSpUv1jvn444/x/PPP49ixY+jduzf69++PGzduVHudvLw8REZGYtq0adBqtdi6dSu6dOkC4G6ZjLOzM5KSkpCXl4eUlBQAwK1btxATE4MTJ05g7dq12LNnD6ZNm1btdRYvXgwPDw8cPXoU7777LubPn48jR47g+++/R1ZWFhITE9GsWbNKjy0pKYFOp9PbiIiIiKjhPHKro2RnZ0MIAW9v7zqdZ8SIEQgPDwcAvPPOO3j11Vdx6NAhBAYGAgAGDRqEvXv3Ijo6WjrmmWeewYgRIwAASUlJ2Lx5M1atWoW33367yuv8v//3/2BhYYHnn38eKpUKrVu3lq5hY2MDExMTNG/eHE5OTtIxL730kvTY3d0dcXFxmDRpEmbNmlXldQIDA/Xq3nNzcxEQECAl/G3btq3y2OnTp9eY5BMRERFR/XnkZsLrS8eOHaXHjo6OAAA/Pz+9fVevXtU7JigoSHosl8vRpUsXaLXaaq/j7++Pxx57DO7u7hg6dCjWr1+PO3fuVHtMVlYWBgwYADc3N6jVakRGRiI3N7faYwICAvSeR0REYMOGDejSpQsmTZqEI0eOVHlsTEwMiouLpa2wsLDaaxERERFR3TxySbiHhwdkMlmNyW9NzMz+b/3re2Utf99XXl6ud0xl5S81MTU1xd69e7Fu3To4OjriP//5D4KDg6tNxPv27QuZTIbVq1fj8OHDmD9/PkpLS6u9jlKp1HseFBSE3377DWPHjsXvv/+O7t27Y86cOZUea2ZmBoVCobcRERERUcN55JJwOzs79OzZE0lJSRBCVGivqUa7Lg4ePCg9Li8vx9GjR2tVFiOXy9GzZ0/MnDkTBw8exJEjR3D8+HEAdxPgsrIyqW9BQQGys7MxZcoUhISEwNvbG/n5+Q8Vr42NDSIiIrB69WrEx8djxYoVD3UeIiIiIqpfj1xNOAB8+umn6N69O3r16oWJEyfCy8sLly9fxpdffglzc3Oo1eoGue4PP/yAJUuWICwsDIsWLcIff/yB119/vdpjMjIysHfvXvTu3Ru2trb4+uuvYWFhgdatWwMAWrdujbS0NDz//PNQKBSwtraGtbU1li5dinfffReHDh3C4sWLHzjWxMREuLi4oFOnTrh16xZ27NhR5zp6IiIiIqofj9xMOAC0b98ehw8fhouLC4YMGQIfHx+8/vrrkMlkGD9+fINd9z//+Q82bdoEf39/bN++HZs2bapxNZZmzZph165dePrpp9G+fXt89dVXSElJkerQp06dioyMDLi6uqJfv36Qy+VYvXo1duzYAT8/PyxevBjx8fEPHKuVlRU+/PBD+Pv7Q6PRwMbGBp999tlD3TcRERER1S+ZqKymg5o0nU73vxrzGABmNXUnokeMEHHGDoGIqNG7l08VFxdX+n27R7IchQyjuDiGX9IkIiIiagCPZDnKP81zzz0HlUpV6XbhwgVjh0dERERE/zCcCa8Hy5Ytq/JXJlu2bGngaIiIiIjon45JeD1o1aqVsUMgIiIiokcIy1GIiIiIiAyMSTgRERERkYExCSciIiIiMjAm4UREREREBsYknIiIiIjIwJiEExEREREZGJNwIiIiIiIDYxJORERERGRgTMKJiIiIiAyMv5hJVVIqpwMwM3YYRGQEQsQZOwQiokaNM+FERERERAbWqJJwjUYDmUwGmUwGlUqFoKAg/PDDD8YOq164uLggOTnZ2GEQERERUT1oVEk4AIwdOxZ5eXk4duwYOnfujH79+uHcuXP1fp3y8nKUlpbW+3kb0u3bt40dAhERERGhESbhVlZWcHJyQrt27fDpp59CLpcjNTUVN2/exLBhw2BtbQ2VSoV//etfuHz5snScRqPB5MmT9c7Vpk0bLFu2DACQk5MDmUyGDRs2ICgoCJaWljh+/HiVcXzyyScICwuTnk+bNg0ymQy//vorAODy5cuQyWTIy8sDcPfDg7u7O5RKJfz8/LBu3Tq92C5duoTIyEjIZDJoNBqpbf78+dJxXbt2xd69e6W25ORkuLi4YM2aNfDw8IC9vf2Dv6BEREREVO8aXRJ+P1NTU5iZmaGkpATjxo3Dvn378O233yItLQ2XLl1CRETEA58zNjYWCQkJyMrKQrt27arsFxISgoMHD0qzz+np6bC1tUV6err03NPTE87OzgAAW1tbrF27FqdOnUJ0dDQiIiKQmZkJAEhJSYGzszOSkpKQl5eHlJQUAMCKFSswb948LFq0CKdOncIbb7yBPn36ICcnR4qjoKAAX3zxBTZs2ICff/650lhLSkqg0+n0NiIiIiJqOI02CS8pKcHHH3+Mv/76C506dcIXX3yBefPmITQ0FJ07d0ZycjJ27tyJ06dPP9B533//fTz99NPw9PRE8+bNq+wXEBAAU1NTHD58GKWlpcjIyMA777yDtLQ0AEBaWhpCQkKk/rGxsQgKCoK7uztGjBiBJ598Eps2bQIA2NjYwMTEBM2bN4eTkxNsbGwAAAkJCZg3bx6effZZuLu7Izo6Gj169MCXX34pnff27dtYunQpAgIC0KFDh0pjnT59OpRKpbTZ2to+0GtCRERERA+m0SXhs2bNgkqlglKpxOzZs/HZZ5+hWbNmKC0tRbdu3aR+Pj4+aNGiBbRa7QOdPyAgoFb9TE1N0a1bN6Snp+PIkSNo3bo1BgwYoDcTfn8SvnLlSgQGBsLOzg4qlQq7du1Cbm5ulecvKirCb7/9hpdffhkqlUra9uzZg/Pnz0v9rK2t0aZNm2pjjYmJQXFxsbQVFhbW6h6JiIiI6OE0unXCo6KiMG7cOKhUKjg5OQFAtbXb95iYmEAIobevpKSkQj+lUlnrWEJCQpCeng65XI6QkBB06NABN27cwOnTp3Hy5EkpCU9PT0dUVBRmz56N0NBQqNVqREdHV3r9e27evAkAWLNmDfz8/PTa1Gr1A8VrZmYGMzOuB05ERERkKI0uCbe2toanp6fePg8PD5iamuLAgQPo06cPAODMmTO4fv06fHx8AAD29vbIz8+Xjrl69are84cREhKCxMREyGQyDB48GDKZDN27d8dHH30EBwcHKc6MjAz4+vpizJgxAO6uvJKdnQ1HR0fpXGZmZigrK5OeOzg4wMnJCRcuXEC/fv3qFCcRERERGVajK0epjFqtxptvvomxY8ciPT0dR48exdChQ9G7d2/4+voCAEJDQ5GSkoLdu3cjMzMTw4YNg4WFRZ2u261bN9y8eRPbt2+XZr1DQkKwdu1avVIUDw8PaLVabN26FVqtFtHR0RU+ALRu3RppaWnIz8/HjRs3IJPJMGnSJMTGxuKLL75AdnY2Dh8+jI8//hi7d++uU9xERERE1LCaRBIOAHPnzkVISAjCw8MRGhqKVq1aYdWqVVL7sGHDMHDgQAwcOBDPP/88Xn31VTg4ONTpmgqFAl26dIGbmxtcXFwA3E32y8rK0KNHD6lf//79ERUVhYiICAQHB0OtViM8PFzvXFOnTkVGRgZcXV2lme/o6GjMmjULs2bNQvv27REeHo6DBw+iVatWdYqbiIiIiBqWTPy9EJqaPJ1O979a8hgArBUnaoqEiDN2CEREj7R7+VRxcTEUCkWF9kZXE071p7g4ptI3DRERERHVDZPwOvDz88Pvv/9eaVtRUZGBoyEiIiKiRwWT8Dr47rvvql1GkIiIiIioMkzC66B169bGDoGIiIiIHkFNZnUUIiIiIqJ/CibhREREREQGxiSciIiIiMjAmIQTERERERkYk3AiIiIiIgNjEk5EREREZGBMwomIiIiIDIxJOBERERGRgTEJJyIiIiIyMP5iJlVJqZwOwMzYYRDRP4gQccYOgYioUeBMOACZTIbU1NRa99doNJg8eXKDxNKQ5yYiIiKif4ZGk4RrNBrIZDLIZDIoFAp4eHhg6NChOHHiRI3H5uXlITQ01ABREhERERE1oiQcAMaOHYu8vDxotVosX74cJSUl6Nq1K7Zs2VJp/9u3bwMAnJycYG5ubshQiYiIiKgJa1RJuJWVFZycnODm5gaNRoPVq1fjjTfewMiRI1FSUoKhQ4di8ODBeP/992FnZ4dBgwYB0C9H2bt3L2QyGXbt2gVfX1+o1Wr0798ff/zxR5XXXbBgARwcHHD8+PEaY1yzZg3c3NxgZWWFIUOGYMKECdBoNFX2Hzt2LNzd3aFUKuHn54d169bptSclJaFt27awsLCAi4sLpk6dCgAQQuCDDz5Aq1atYGlpCXd3dyxevLjG+IiIiIio4TWqJLwy0dHRuHTpEo4ePQoA+Pbbb6HT6fDTTz/hk08+qfK4hIQEJCcnY8+ePcjMzERCQkKl/WbNmoUZM2Zgz5496NSpU7WxaLVa6UPB0aNH4eXlhSVLllR7jK2tLdauXYtTp04hOjoaERERyMzMBAAcOnQIcXFx+Pzzz3H27FmsX78enp6eAICvv/4aa9aswfr166W/DDg6OlZ6jZKSEuh0Or2NiIiIiBpOo18dxcfHBwCQk5MDAHB0dERiYiJMTKr//DFz5kwEBQUBAIYNG4aNGzdW6BMfH48lS5Zg37598PLyqjGWZcuWoVu3bvjggw8AADExMdi2bVu1x8TGxkqPR4wYgW+++QabNm1Cx44dceHCBTg5OeGpp56Cqakp3NzcEBwcDADIzc1Fu3btEBwcDJlMhtatW1d5jenTp2PatGk1xk9ERERE9aPRz4QLIQDcLTkBAH9//xoTcADo2LGj9NjJyQlXrlzRa09OTkZiYiLS0tJqlYADwNmzZ9GlSxe9fYGBgdUes3LlSgQGBsLOzg4qlQq7du1Cbm4uAKBXr16QyWTw8PDAiBEjsG3bNul+//WvfyErKwvt27fHuHHjsG/fviqvERMTg+LiYmkrLCys1f0QERER0cNp9En4mTNnAABt2rQBACiVylodZ2b2f+tjy2QylJeX67V37doVJiYmlc6QV0UIIX0YqI309HRERUUhIiICO3fuxPHjx9GrVy+UlJQAAJo3b46TJ0/is88+g7m5Od58803069cPwN37PXv2LBISElBUVITw8HBER0dXea8KhUJvIyIiIqKG0+jLURYsWABXV1d07ty5Xs/r5+eHSZMmoVevXlCpVBg5cmSNx3h5eeHAgQN6+44cOaKX8N8vIyMDvr6+GDNmDACgvLwc2dnZerXd5ubm6NOnD/r06YPXX38djz/+OK5cuQIHBwdYWVlh0KBBGDRoEHr37o2hQ4diwYIFdbhrIiIiIqoPjSoJv3nzJvLz83Hnzh2cP38eS5cuxYYNG7Bp0yaYmtb/rd5b/rBPnz5QqVSIiIiotv+wYcOQmJiImTNnYsCAAUhJSUFmZmaFEpV7PDw8oNVqsXXrVrRr1w7z589Hfn6+1L5161b8/vvvCA0NhZWVFdatWwc7OzvY2tpi5cqVEELg8ccfh1wuxzfffANvb+96vX8iIiIiejiNqhwlKSkJzs7O8PLywptvvgkzMzMcOnQIffr0abBrhoaGYuPGjRgxYgRSUlKq7evt7Y2VK1fi008/RUBAALKyshAREQELC4tK+/fv318qRwkODoZarUZ4eLjU3qJFC6xbtw4hISF47LHHcPDgQWzduhVyuRzNmzfHokWLEBQUhKCgIFy7dg1r166t13snIiIioocjE/e+yUdG0atXL3h7e2PhwoXGDkWi0+n+VzsfA6DyUhkiapqEiDN2CEREj4R7+VRxcXGl37drVOUoj4KFCxciODgYKpUK69evx+7duxEfH2/ssCpVXBzDL2kSERERNYBGVY5ibOnp6VCpVJVuI0aMAACcOnUKzz77LPz9/fH1119j48aN0treRERERNQ0sBylHul0Oly6dKnStmbNmsHBwcHAET2cmv58QkRERETVYzmKASkUCuln44mIiIiIqsJyFCIiIiIiA2MSTkRERERkYEzCiYiIiIgMjEk4EREREZGBMQknIiIiIjIwJuFERERERAbGJJyIiIiIyMCYhBMRERERGRiTcCIiIiIiA+MvZlKVlMrpAMyMHQYRNVJCxBk7BCIio+FM+D/M3r17IZPJUFpaWq/n7dGjB6ZOnVqv5yQiIiKih9Ook/ALFy4gKioKbm5usLCwgJubG8LDw7F9+/ZaHX/u3DnIZDLk5OQ0bKBERERE1KQ02nIUrVaL7t27w8/PD59//jm8vb1x7do1HD16FOPHj8ezzz5r7BCJiIiIqIlqtDPho0aNQrt27bB371706dMHHh4e6Nq1K/7973/j9OnTUr/U1FQEBgZCoVDAy8sLCxculNratWsHAGjbti1kMplUziGTyZCamir1y8nJgUwmw7lz5wAAycnJcHFxwapVq+Dq6gqVSoWoqCjcuXOn1vHv2LEDXl5eUCgUGDhwIK5fvy61lZWVITY2Fi4uLlCr1dBoNDh58qTULoRATEwMrK2tYW9vj9mzZz/Yi0dEREREDapRJuEFBQXYs2cPxo0bB5lMVqH93j6tVouBAwdi5MiROH36ND755BNMmzYN69atAwDs378fAHDw4EHk5eVhwoQJtY6hsLAQy5cvx9atW7Fp0yZs27YNM2bMqPXxcXFxWLlyJfbs2YMzZ85g7NixUtu0adPw3Xff4auvvsKxY8fQvXt39O7dG3/++ScA4L///S/mz5+PJUuWYO/evdi/fz9OnDhR5bVKSkqg0+n0NiIiIiJqOI0yCc/OzoYQAl5eXtK+zMxMqFQqaUtPT8fMmTMxfPhwvPXWW3B3d8cLL7yAsWPHYunSpQAAOzs7AIC9vT2cnJygUqlqHcOtW7fw+eefw9/fH71790Z8fDw+/fTTWh//4Ycf4oknnkC3bt0wf/58rF69GtevX8etW7cwZ84crFy5EiEhIfD09MT06dPRvHlzbN68GQCwaNEijB49Gi+++CL8/PywfPlylJWVVXmt6dOnQ6lUSputrW2t4yQiIiKiB9coa8KFEBX2eXt74/jx4ygrK4OPjw/KysqQmZmJzMxMfP7551K/0tJStGzZss4xqNVq+Pj4SM+DgoJQWFiIwsLCWiW5QUFBeo9LS0uRnZ0NS0tL6HQ6dOvWTa+/TqfD+fPnAdyd4Z84caLUZm1tDU9PzyqvFRMTo9dfp9MxESciIiJqQI0yCff09IRMJoNWq0WnTp0AAObm5vD09NRb+q+oqAjjx4/Hm2++qXe8qWn1L4tMJtNL9EtKSirtUxf3H3//46KiIgB3lzJs0aKF3jE2NjYP0dkkdQAAEMtJREFUdX0zMzOYmXE9cCIiIiJDaZRJuJ2dHTQaDebOnYsXX3wRJiaVV934+/tDq9VWOUt8LzH9eymHvb098vPzpeeZmZkVjv3zzz+h1Wrh7e0NADh06BBsbW1rPcN88OBBPPPMM9JjU1NTeHh4wMTEBObm5sjLy0NgYGClx3p5eeHgwYMYMGAAAOD69evSl0aJiIiIyPgaZRIOAAsXLkT37t0RFhaGDz74AN7e3iguLsa2bdsAAHK5HO+99x6Cg4MxefJkvPbaaxBC4NChQyguLsaoUaPg5OQEc3Nz7NixA4MGDYKVlRWUSiVCQ0Mxb948BAQEoLCwEAkJCRWub2lpiZEjRyIxMREFBQWIi4vD6NGjax1/bGysNNM9ZswYvPbaa9Lzt99+GyNHjsSdO3fQuXNn5OfnY8uWLRg8eDD8/PwwcuRIjBkzBl26dIGvry+mTJkCuVxeD68qEREREdWHRvnFTABo3749jh49Ci8vLwwfPhw+Pj7QaDTYt28fUlJSEBISgi5dumDnzp3Yt28funTpgh49euCLL75AmzZtAAAWFhaYPXs24uPj4ejoiFmzZgEA5s6dC7Vajccffxzjx4+v9JcobW1t8cYbb6BPnz7o27cvnnnmGUyaNKnW8cfGxmLw4MEICwuDp6cnkpKSpLbZs2dj1KhRmDBhAry9vfHSSy8hNzdXmmUfOnQoRo8ejWHDhiE0NBSBgYHw9/d/+BeTiIiIiOqVTFT2LUaqk+TkZEyePBkXL140digPRafTQalUAogBwFpxImoYQsQZOwQiogZzL58qLi6GQqGo0N5oy1Go7oqLYyp90xARERFR3TTacpR/qvT0dL31yu/fRowYYezwiIiIiMgAWI5iYDqdDpcuXaq0rVmzZnBwcDBwRBXV9OcTIiIiIqoey1H+YRQKRbU/nENEREREjR/LUYiIiIiIDIxJOBERERGRgTEJJyIiIiIyMCbhREREREQGxiSciIiIiMjAmIQTERERERkYk3AiIiIiIgNjEk5EREREZGD8sR6qklI5HYCZscMgIiIiqjMh4owdgh7OhDcSU6dORY8ePaTnGo0GkydPNmJERERERFQVJuFGkJiYCDc3N719u3btgkwmwyeffKK3Pzw8HEOHDjVgdERERETU0JiEG0FoaChyc3ORk5Mj7UtLS4OLiwvS0tKkfeXl5fjpp58QGhpqhCiJiIiIqKEwCTeCTp06oVmzZnoJd1paGiZMmIAff/wRQggAQGZmJv744w+EhYVh8+bN6NatG9RqNVq2bIlRo0bh5s2btb7mggUL4ODggOPHj9f7/RARERHRg2ESbgRyuRzdu3eXkvA7d+4gIyMDr776KlQqFU6fPg3gbmLesmVLeHh44NatW4iJicGJEyewdu1a7NmzB9OmTavV9WbNmoUZM2Zgz5496NSpU4PdFxERERHVDpNwIwkNDZWS8EOHDsHNzQ0ODg7o0aOHtD8tLQ1hYWEAgJdeegnh4eFwd3dHaGgo4uLisGHDhhqvEx8fj/nz52Pfvn3w8/OrtE9JSQl0Op3eRkREREQNh0m4kYSFheHs2bPIz89HWloaQkJCAEAvCU9PT5fqwbOysjBgwAC4ublBrVYjMjISubm51V4jOTkZiYmJSEtLg5eXV5X9pk+fDqVSKW22trb1dJdEREREVBkm4UYSGBgIpVKJtLQ0pKWlScl2SEgI0tLSoNVqcfnyZWl/3759IZPJsHr1ahw+fBjz589HaWlptdfo2rUrTExMsHHjxmr7xcTEoLi4WNoKCwvr5yaJiIiIqFL8sR4jMTMzwxNPPIE9e/bg559/xmeffQYA8PX1xe3bt7FixQrY29vD19cXBQUFyM7OxoYNG6Sa7vXr19d4DT8/P0yaNAm9evWCSqXCyJEjq4zFzIw/ykNERERkKJwJN6LQ0FB8+eWXaNasGdq0aQMAkMlkCA4OxqJFi6QSFWtra1hbW2Pp0qU4f/481q1bh8WLF9fqGl27dsWWLVvw3nvvYdWqVQ11K0RERET0AJiEG1FYWBiKioqkZPuekJAQFBUVSaUocrkcq1evxo4dO+Dn54fFixcjPj6+1tcJDQ3Fxo0bMWLECKSkpNTrPRARERHRg5OJe4tSE/2PTqeDUqkEEAOAZSpERET06BMizqDXu5dPFRcXQ6FQVGhnTThVqbg4ptI3DRERERHVDctRiIiIiIgMjEk4EREREZGBMQknIiIiIjIwJuFERERERAbGJJyIiIiIyMC4OgpVcG/VSp1OZ+RIiIiIiB5N9/KoqlYDZxJOFfz1118AAFtbWyNHQkRERPRou3Xr1v9+f0Ufk3CqQKVSAQAKCgoqfdNQ46HT6WBra4vCwkKuCd/IcaybDo5108Gx/mcTQuDWrVto0aJFpe1MwqkCE5O7XxVQKpX8R91EKBQKjnUTwbFuOjjWTQfH+p+ruslMfjGTiIiIiMjAmIQTERERERmYfOrUqVONHQT985iYmECj0UAulxs7FGpgHOumg2PddHCsmw6O9aNLJqpaN4WIiIiIiBoEy1GIiIiIiAyMSTgRERERkYExCSciIiIiMjAm4VTBxx9/jJYtW0KpVKJv377Iz883dkh0nxkzZqBz585QqVRwdnZGZGQkrl69qtfn119/Rc+ePaFQKNCmTRusWLFCr720tBTjx4+HnZ0d1Go1hgwZgqKiIr0+27Ztg6+vLywtLdGlSxccOHBArz0/Px/9+/eHUqmEs7MzZsyY0TA3TJL+/ftDJpMhNTVV2peRkYHAwEBYWlrCx8cHW7du1TumqKgIkZGRaNasGWxtbTFu3DiUlpbq9fniiy/g7u4OhUKBsLAw/Prrr3rtNb2fqP4cPXoUTz31FJRKJaytrfHSSy9JbRzrxuP69et466234OTkBJVKheDgYKSlpUntHOsmQhDdZ8WKFcLKykps3LhRHDt2TISFhYnQ0FBjh0X3ee6558SqVavEL7/8IjIyMkRQUJDo2bOn1H7nzh3h6ekpBg0aJDIzM8WyZcuEqampSE1NlfpMmTJFODo6itTUVJGRkSF8fX1FRESE1P7LL78Ic3Nz8eGHH4rTp0+L6OhoYW1tLQoKCqQ+oaGhIiQkRBw7dkykpKQIlUolli9fbpgXoQlasWKFePrppwUAsXPnTiGEEAUFBcLa2lqMHj1anD59WsyYMUOYm5uLX375RTrujTfeED4+PuLAgQNi165dwtnZWcTGxkrtu3btEqampmLJkiUiMzNTvPTSS8LT01Pcvn1bCFG79xPVj6ysLNG8eXMxZcoUcerUKZGVlSU2btwohOBYNzaRkZGiY8eOYv/+/eLcuXNizJgxQq1Wi2vXrnGsmxAm4aQnICBATJo0SXqenZ0tAIhjx44ZMSqqzs8//ywAiOvXrwshhPj222+FhYWF+PPPP6U+ERERol+/fkIIIcrKyoSdnZ1YsmSJ1L5r1y4hl8ulJHvcuHEiODhYai8vLxdubm4iMTFRCCHEiRMnBACh1WqlPrGxscLf37/hbrQJy8nJEa6uriI3N1cvCZ83b55o1aqVKC8vl/qGhISIMWPGCCGEuHbtmpDL5WLHjh1S+/Lly4Wtra0oLS0VQggxYMAA8dprr0ntRUVFQqFQiE2bNgkhan4/Uf0ZOHCgGDp0aKVtHOvGxdfXV/r/VAgh/vzzTwFA7N+/n2PdhLAchSS3b9/GiRMn8OSTT0r73N3d0aZNG2RkZBgxMqpOQUEBLC0tYWVlBQA4ePAgunbtCrVaLfV56qmnpDE8f/48CgoK9MY5LCwMAHD48GHpHPe3y2QyPPnkk9I5Dh48CBcXF3h5eeldIzMzEzqdroHutGkqLy/HkCFDMG3aNLi4uOi1HTx4ED179oRMJpP23T/WR44cgRACGo1Gr72wsBDnzp2TznH/WFtZWeHxxx/XG+vq3k9UP8rKyrB9+3a0bdsWGo0Gjo6O6N27N06ePAmAY93YPPHEE/j2229RUFCAsrIyrFixAi1btkSHDh041k0Ik3CSFBYWory8HA4ODnr77e3tceXKFSNFRdW5ffs24uPjMWTIEJiamgIArly5UukY3qsbvzeW9/eRy+WwsbGR2qo6R03t5eXlKCgoqMc7pMTERKhUKkRGRlZoq804tWjRAmZmZnrt99pqe47q3k9UP65evYri4mLMnj0br776Kr7//nu4urriqaeewo0bNzjWjcyCBQtgZ2cHe3t7WFhY4KOPPsK2bdugUqk41k2IqbEDoH8Owd9teqSUlZXh9ddfBwDMmTNH2l/TONZmnOvjHFR3v/zyC+bOnSv9heLvHmac7p9dqw2OtWGUl5cDAAYNGoR///vfAIDFixdj69at2Lx5M8e6kZk3bx7Onj2LnTt3wtbWFv/973/Rt29fHDt2jGPdhHAmnCR2dnYwMTGpMOt99erVCp+YybjKy8sxdOhQnDlzBj/88ANUKpXU5ujoWOkY3pspcXR0BAC9PmVlZbh27Zo0zlWdo6Z2ExMT2NnZ1dNdUkZGBvLz8+Hm5gZTU1Pprx3PPPMMBg8eXKtxun79OkpKSqT2v/8lxMHB4aHG+t77ieqHnZ0d5HI5vL29pX1mZmZwd3dHbm4ux7oR0el0mDJlCubPn49evXohICAAiYmJsLS0xJo1azjWTQiTcJJYWFjA398fe/bskfb99ttvyMnJweOPP27EyOh+QggMGzYMBw4cwM6dO2FjY6PXHhQUhMOHD+stObh7925pDN3d3WFnZ6c3zveWxgoMDJTOcX87AOzZs0c6R1BQEC5evIizZ8/qXaNjx45QKBT1eLdNW//+/XHy5EkcP35c2oC7M6QzZ85EUFAQ9u7dqzerdf9Yd+7cGTKZDPv27dNrt7W1haenJ4CKY11cXIyMjAy9sa7u/UT1w9zcHAEBAVJNL3B3KdGcnBy4ublxrBuRkpISlJSUQC6X6+03MTFBeXk5x7opMejXQOkfb/ny5UKlUomUlBRx/Phx0bNnTxESEmLssOg+w4cPF3Z2diIjI0Pk5eVJ271vxd++fVt4eHiIF198UZw6dUosX75cmJmZ6S09FRsbK5ydncWuXbtERkaG6NChQ6VLFM6YMUNkZWWJMWPGVLpEYVhYmDh+/Lj45ptvhFqt5hKFBoBKliiMjo4WWVlZ4uOPP66wlFlERITw9fUVGRkZYvfu3aJly5Z6S5mlpqYKU1NTsWzZMnHq1Cnx8ssvCw8PD2kps9q8n6h+rF69WlhaWoovv/xSaLVaMXr0aOHo6Chu3LjBsW5kunfvLoKCgsSBAwfE2bNnRUxMjDA3NxdZWVkc6yaESThVMGPGDOHk5CQsLS3FCy+8IPLy8owdEt0HQKXbb7/9JvU5c+aMCAsLExYWFsLNzU0sW7ZM7xwlJSVi3LhxwsbGRqhUKhERESH++usvvT5btmwRPj4+wtzcXAQEBIj9+/frtefl5Ym+ffsKhUIhHB0dRUJCQoPdM/2f+5NwIYTYv3+/6NKlizA3Nxfe3t5i8+bNev3/+usvMWTIEKFWq4W1tbUYM2aMKCkp0euzfPly0bp1a2FhYSFCQ0PFmTNn9Nprej9R/UlKShKurq5CpVIJjUYjMjMzpTaOdeNx8eJF8corrwgHBwdhZWUlAgMDxbZt26R2jnXTIBOC1flERERERIbEmnAiIiIiIgNjEk5EREREZGBMwomIiIiIDIxJOBERERGRgTEJJyIiIiIyMCbhREREREQGxiSciIiIiMjA/j/BUgozNbsI/AAAAABJRU5ErkJggg==\" class=\"pd_save is-viewer-good\">",
                        "text/plain": "<IPython.core.display.HTML object>"
                    },
                    "metadata": {},
                    "output_type": "display_data"
                }
            ],
            "source": "import pixiedust\nfrom pyspark.sql.functions import col\ncounts = spark.sql(\"select class, count(class) as count_number from df group by class\")\ndisplay(counts)"
        },
        {
            "cell_type": "markdown",
            "metadata": {},
            "source": "Imbalanced classes can cause pain in machine learning. Therefore let\u2019s rebalance. In the flowing we limit the number of elements per class to the amount of the least represented class. This is called undersampling. Other ways of rebalancing can be found here:\n\nhttps://machinelearningmastery.com/tactics-to-combat-imbalanced-classes-in-your-machine-learning-dataset/"
        },
        {
            "cell_type": "code",
            "execution_count": 24,
            "metadata": {},
            "outputs": [],
            "source": "from pyspark.sql.functions import min\n\n# create a lot of distinct classes from the dataset\nclasses = [row[0] for row in df.select('class').distinct().collect()]\n\n# compute the number of elements of the smallest class in order to limit the number of samples per calss\nmin = df.groupBy('class').count().select(min('count')).first()[0]\n\n# define the result dataframe variable\ndf_balanced = None\n\n#\u00a0iterate over distinct classes\nfor cls in classes:\n    \n    #\u00a0only select examples for the specific class within this iteration\n    # shuffle the order of the elements (by setting fraction to 1.0 sample works like shuffle)\n    # return only the first n samples\n    df_temp = df \\\n        .filter(\"class = '\"+cls+\"'\") \\\n        .sample(False, 1.0) \\\n        .limit(min)\n    \n    # on first iteration, assing df_temp to empty df_balanced\n    if df_balanced == None:    \n        df_balanced = df_temp\n    # afterwards, append vertically\n    else:\n        df_balanced=df_balanced.union(df_temp)"
        },
        {
            "cell_type": "markdown",
            "metadata": {},
            "source": "Please verify, by using the code cell below, if df_balanced has the same number of elements per class. You should get 6683 elements per class."
        },
        {
            "cell_type": "code",
            "execution_count": 26,
            "metadata": {},
            "outputs": [
                {
                    "data": {
                        "text/plain": "['Use_telephone',\n 'Standup_chair',\n 'Eat_meat',\n 'Getup_bed',\n 'Drink_glass',\n 'Pour_water',\n 'Comb_hair',\n 'Walk',\n 'Climb_stairs',\n 'Sitdown_chair',\n 'Liedown_bed',\n 'Descend_stairs',\n 'Brush_teeth',\n 'Eat_soup']"
                    },
                    "execution_count": 26,
                    "metadata": {},
                    "output_type": "execute_result"
                }
            ],
            "source": "classes"
        },
        {
            "cell_type": "code",
            "execution_count": 30,
            "metadata": {},
            "outputs": [
                {
                    "name": "stdout",
                    "output_type": "stream",
                    "text": "+---+---+---+--------------------+-------------+\n|  x|  y|  z|              source|        class|\n+---+---+---+--------------------+-------------+\n| 28| 44| 49|Accelerometer-201...|Use_telephone|\n| 28| 44| 49|Accelerometer-201...|Use_telephone|\n| 28| 44| 49|Accelerometer-201...|Use_telephone|\n| 40| 28| 44|Accelerometer-201...|Use_telephone|\n| 28| 46| 49|Accelerometer-201...|Use_telephone|\n| 28| 46| 33|Accelerometer-201...|Use_telephone|\n| 31| 45| 50|Accelerometer-201...|Use_telephone|\n| 30| 43| 50|Accelerometer-201...|Use_telephone|\n| 30| 42| 49|Accelerometer-201...|Use_telephone|\n| 32| 43| 49|Accelerometer-201...|Use_telephone|\n| 32| 43| 49|Accelerometer-201...|Use_telephone|\n| 33| 43| 50|Accelerometer-201...|Use_telephone|\n| 33| 43| 51|Accelerometer-201...|Use_telephone|\n| 34| 42| 50|Accelerometer-201...|Use_telephone|\n| 35| 43| 51|Accelerometer-201...|Use_telephone|\n| 34| 42| 49|Accelerometer-201...|Use_telephone|\n| 34| 41| 48|Accelerometer-201...|Use_telephone|\n| 34| 41| 49|Accelerometer-201...|Use_telephone|\n| 35| 41| 50|Accelerometer-201...|Use_telephone|\n| 34| 42| 50|Accelerometer-201...|Use_telephone|\n+---+---+---+--------------------+-------------+\nonly showing top 20 rows\n\n"
                }
            ],
            "source": "df_balanced.show()"
        },
        {
            "cell_type": "code",
            "execution_count": 33,
            "metadata": {},
            "outputs": [
                {
                    "name": "stdout",
                    "output_type": "stream",
                    "text": "+--------------+-----+\n|         class|count|\n+--------------+-----+\n| Use_telephone| 6683|\n| Standup_chair| 6683|\n|      Eat_meat| 6683|\n|     Getup_bed| 6683|\n|   Drink_glass| 6683|\n|    Pour_water| 6683|\n|     Comb_hair| 6683|\n|          Walk| 6683|\n|  Climb_stairs| 6683|\n| Sitdown_chair| 6683|\n|   Liedown_bed| 6683|\n|Descend_stairs| 6683|\n|   Brush_teeth| 6683|\n|      Eat_soup| 6683|\n+--------------+-----+\n\n"
                }
            ],
            "source": "df_balanced.groupBy('class').count().show()"
        },
        {
            "cell_type": "code",
            "execution_count": 35,
            "metadata": {},
            "outputs": [
                {
                    "name": "stdout",
                    "output_type": "stream",
                    "text": "+--------------+--------+\n|         class|count(1)|\n+--------------+--------+\n| Use_telephone|    6683|\n| Standup_chair|    6683|\n|      Eat_meat|    6683|\n|     Getup_bed|    6683|\n|   Drink_glass|    6683|\n|    Pour_water|    6683|\n|     Comb_hair|    6683|\n|          Walk|    6683|\n|  Climb_stairs|    6683|\n| Sitdown_chair|    6683|\n|   Liedown_bed|    6683|\n|Descend_stairs|    6683|\n|   Brush_teeth|    6683|\n|      Eat_soup|    6683|\n+--------------+--------+\n\n"
                }
            ],
            "source": "df_balanced.createOrReplaceTempView('df_balanced')\nspark.sql('select class, count(*) from df_balanced group by class').show()"
        },
        {
            "cell_type": "code",
            "execution_count": null,
            "metadata": {},
            "outputs": [],
            "source": ""
        }
    ],
    "metadata": {
        "kernelspec": {
            "display_name": "Python 3.6",
            "language": "python",
            "name": "python3"
        },
        "language_info": {
            "codemirror_mode": {
                "name": "ipython",
                "version": 3
            },
            "file_extension": ".py",
            "mimetype": "text/x-python",
            "name": "python",
            "nbconvert_exporter": "python",
            "pygments_lexer": "ipython3",
            "version": "3.6.9"
        }
    },
    "nbformat": 4,
    "nbformat_minor": 1
}