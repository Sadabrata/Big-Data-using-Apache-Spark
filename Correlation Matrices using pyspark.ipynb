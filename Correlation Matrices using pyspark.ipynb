{
    "cells": [
        {
            "cell_type": "code",
            "execution_count": 20,
            "metadata": {},
            "outputs": [],
            "source": "import random\nfrom pyspark.mllib.stat import Statistics\ncolumn1 = sc.parallelize(range(100))\ncolumn2 = sc.parallelize(range(100,200))\ncolumn3 = sc.parallelize(reversed(range(100)))\ncolumn4 = sc.parallelize(random.sample(range(100),100))"
        },
        {
            "cell_type": "code",
            "execution_count": 21,
            "metadata": {},
            "outputs": [
                {
                    "data": {
                        "text/plain": "[(((0, 100), 99), 27),\n (((1, 101), 98), 6),\n (((2, 102), 97), 39),\n (((3, 103), 96), 95),\n (((4, 104), 95), 28),\n (((5, 105), 94), 43),\n (((6, 106), 93), 45),\n (((7, 107), 92), 32),\n (((8, 108), 91), 71),\n (((9, 109), 90), 56)]"
                    },
                    "execution_count": 21,
                    "metadata": {},
                    "output_type": "execute_result"
                }
            ],
            "source": "data = column1.zip(column2).zip(column3).zip(column4)\ndata.take(10)"
        },
        {
            "cell_type": "code",
            "execution_count": 24,
            "metadata": {},
            "outputs": [
                {
                    "data": {
                        "text/plain": "[[0, 100, 99, 27],\n [1, 101, 98, 6],\n [2, 102, 97, 39],\n [3, 103, 96, 95],\n [4, 104, 95, 28],\n [5, 105, 94, 43],\n [6, 106, 93, 45],\n [7, 107, 92, 32],\n [8, 108, 91, 71],\n [9, 109, 90, 56]]"
                    },
                    "execution_count": 24,
                    "metadata": {},
                    "output_type": "execute_result"
                }
            ],
            "source": "data_f = data.map(lambda x: [x[0][0][0], x[0][0][1], x[0][1], x[1]])\ndata_f.take(10)"
        },
        {
            "cell_type": "code",
            "execution_count": 25,
            "metadata": {},
            "outputs": [
                {
                    "data": {
                        "text/plain": "array([[ 1.        ,  1.        , -1.        ,  0.18874287],\n       [ 1.        ,  1.        , -1.        ,  0.18874287],\n       [-1.        , -1.        ,  1.        , -0.18874287],\n       [ 0.18874287,  0.18874287, -0.18874287,  1.        ]])"
                    },
                    "execution_count": 25,
                    "metadata": {},
                    "output_type": "execute_result"
                }
            ],
            "source": "Statistics.corr(data_f)"
        },
        {
            "cell_type": "code",
            "execution_count": null,
            "metadata": {},
            "outputs": [],
            "source": ""
        }
    ],
    "metadata": {
        "kernelspec": {
            "display_name": "Python 3.6 with Spark",
            "language": "python3",
            "name": "python36"
        },
        "language_info": {
            "codemirror_mode": {
                "name": "ipython",
                "version": 3
            },
            "file_extension": ".py",
            "mimetype": "text/x-python",
            "name": "python",
            "nbconvert_exporter": "python",
            "pygments_lexer": "ipython3",
            "version": "3.6.8"
        }
    },
    "nbformat": 4,
    "nbformat_minor": 1
}