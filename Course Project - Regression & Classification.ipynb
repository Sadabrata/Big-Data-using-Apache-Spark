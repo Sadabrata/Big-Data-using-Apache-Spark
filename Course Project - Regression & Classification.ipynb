{
    "cells": [
        {
            "cell_type": "markdown",
            "metadata": {},
            "source": "Welcome to the final project of \u201cApache Spark for Scalable Machine Learning on BigData\u201d. In this assignment you\u2019ll analyze a real-world dataset and apply machine learning on it using Apache Spark. \n\nIn order to pass, you need to implement some code (as described in the instruction section on Coursera) and finally answer a quiz on the Coursera platform.\n\nThis notebook is designed to run in a IBM Watson Studio Apache Spark runtime. In case you are running it in an IBM Watson Studio standard runtime or outside Watson Studio, we install Apache Spark in local mode for test purposes only. Please don't use it in production.\n\n"
        },
        {
            "cell_type": "code",
            "execution_count": 1,
            "metadata": {},
            "outputs": [
                {
                    "name": "stdout",
                    "output_type": "stream",
                    "text": "Waiting for a Spark session to start...\nSpark Initialization Done! ApplicationId = app-20200330212937-0000\nKERNEL_ID = f6575036-fbb9-49f3-bde6-3882189ac6a5\nCollecting pip\n\u001b[?25l  Downloading https://files.pythonhosted.org/packages/54/0c/d01aa759fdc501a58f431eb594a17495f15b88da142ce14b5845662c13f3/pip-20.0.2-py2.py3-none-any.whl (1.4MB)\n\u001b[K    100% |################################| 1.4MB 2.2MB/s eta 0:00:01\n\u001b[?25hInstalling collected packages: pip\nSuccessfully installed pip-20.0.2\n"
                }
            ],
            "source": "!pip install --upgrade pip"
        },
        {
            "cell_type": "code",
            "execution_count": 2,
            "metadata": {},
            "outputs": [],
            "source": "if not ('sc' in locals() or 'sc' in globals()):\n    print('It seems you are not running in a IBM Watson Studio Apache Spark Notebook. You might be running in a IBM Watson Studio Default Runtime or outside IBM Waston Studio. Therefore installing local Apache Spark environment for you. Please do not use in Production')\n    \n    from pip import main\n    main(['install', 'pyspark==2.4.5'])\n    \n    from pyspark import SparkContext, SparkConf\n    from pyspark.sql import SparkSession\n\n    sc = SparkContext.getOrCreate(SparkConf().setMaster(\"local[*]\"))\n    \n    spark = SparkSession \\\n        .builder \\\n        .getOrCreate()"
        },
        {
            "cell_type": "markdown",
            "metadata": {},
            "source": "Let\u2019s start by downloading the dataset and creating a dataframe. This dataset can be found on DAX, the IBM Data Asset Exchange and can be downloaded for free.\n\nhttps://developer.ibm.com/exchanges/data/all/jfk-weather-data/"
        },
        {
            "cell_type": "code",
            "execution_count": 3,
            "metadata": {},
            "outputs": [
                {
                    "name": "stdout",
                    "output_type": "stream",
                    "text": "--2020-03-30 21:29:51--  http://max-training-data.s3-api.us-geo.objectstorage.softlayer.net/noaa-weather/jfk_weather.tar.gz\nResolving max-training-data.s3-api.us-geo.objectstorage.softlayer.net (max-training-data.s3-api.us-geo.objectstorage.softlayer.net)... 67.228.254.196\nConnecting to max-training-data.s3-api.us-geo.objectstorage.softlayer.net (max-training-data.s3-api.us-geo.objectstorage.softlayer.net)|67.228.254.196|:80... connected.\nHTTP request sent, awaiting response... 200 OK\nLength: 2575759 (2.5M) [application/x-tar]\nSaving to: 'jfk_weather.tar.gz'\n\n100%[======================================>] 2,575,759   --.-K/s   in 0.03s   \n\n2020-03-30 21:29:51 (71.1 MB/s) - 'jfk_weather.tar.gz' saved [2575759/2575759]\n\n./._jfk_weather.csv\njfk_weather.csv\n"
                }
            ],
            "source": "# delete files from previous runs\n!rm -f jfk_weather*\n\n# download the file containing the data in CSV format\n!wget http://max-training-data.s3-api.us-geo.objectstorage.softlayer.net/noaa-weather/jfk_weather.tar.gz\n\n# extract the data\n!tar xvfz jfk_weather.tar.gz\n    \n# create a dataframe out of it by using the first row as field names and trying to infer a schema based on contents\ndf = spark.read.option(\"header\", \"true\").option(\"inferSchema\",\"true\").csv('jfk_weather.csv')\n\n# register a corresponding query table\ndf.createOrReplaceTempView('df')"
        },
        {
            "cell_type": "code",
            "execution_count": 4,
            "metadata": {},
            "outputs": [
                {
                    "data": {
                        "text/plain": "['STATION',\n 'STATION_NAME',\n 'ELEVATION',\n 'LATITUDE',\n 'LONGITUDE',\n 'DATE',\n 'REPORTTPYE',\n 'HOURLYSKYCONDITIONS',\n 'HOURLYVISIBILITY',\n 'HOURLYPRSENTWEATHERTYPE',\n 'HOURLYDRYBULBTEMPF',\n 'HOURLYDRYBULBTEMPC',\n 'HOURLYWETBULBTEMPF',\n 'HOURLYWETBULBTEMPC',\n 'HOURLYDewPointTempF',\n 'HOURLYDewPointTempC',\n 'HOURLYRelativeHumidity',\n 'HOURLYWindSpeed',\n 'HOURLYWindDirection',\n 'HOURLYWindGustSpeed',\n 'HOURLYStationPressure',\n 'HOURLYPressureTendency',\n 'HOURLYPressureChange',\n 'HOURLYSeaLevelPressure',\n 'HOURLYPrecip',\n 'HOURLYAltimeterSetting',\n 'DAILYMaximumDryBulbTemp',\n 'DAILYMinimumDryBulbTemp',\n 'DAILYAverageDryBulbTemp',\n 'DAILYDeptFromNormalAverageTemp',\n 'DAILYAverageRelativeHumidity',\n 'DAILYAverageDewPointTemp',\n 'DAILYAverageWetBulbTemp',\n 'DAILYHeatingDegreeDays',\n 'DAILYCoolingDegreeDays',\n 'DAILYSunrise',\n 'DAILYSunset',\n 'DAILYWeather',\n 'DAILYPrecip',\n 'DAILYSnowfall',\n 'DAILYSnowDepth',\n 'DAILYAverageStationPressure',\n 'DAILYAverageSeaLevelPressure',\n 'DAILYAverageWindSpeed',\n 'DAILYPeakWindSpeed',\n 'PeakWindDirection',\n 'DAILYSustainedWindSpeed',\n 'DAILYSustainedWindDirection',\n 'MonthlyMaximumTemp',\n 'MonthlyMinimumTemp',\n 'MonthlyMeanTemp',\n 'MonthlyAverageRH',\n 'MonthlyDewpointTemp',\n 'MonthlyWetBulbTemp',\n 'MonthlyAvgHeatingDegreeDays',\n 'MonthlyAvgCoolingDegreeDays',\n 'MonthlyStationPressure',\n 'MonthlySeaLevelPressure',\n 'MonthlyAverageWindSpeed',\n 'MonthlyTotalSnowfall',\n 'MonthlyDeptFromNormalMaximumTemp',\n 'MonthlyDeptFromNormalMinimumTemp',\n 'MonthlyDeptFromNormalAverageTemp',\n 'MonthlyDeptFromNormalPrecip',\n 'MonthlyTotalLiquidPrecip',\n 'MonthlyGreatestPrecip',\n 'MonthlyGreatestPrecipDate',\n 'MonthlyGreatestSnowfall',\n 'MonthlyGreatestSnowfallDate',\n 'MonthlyGreatestSnowDepth',\n 'MonthlyGreatestSnowDepthDate',\n 'MonthlyDaysWithGT90Temp',\n 'MonthlyDaysWithLT32Temp',\n 'MonthlyDaysWithGT32Temp',\n 'MonthlyDaysWithLT0Temp',\n 'MonthlyDaysWithGT001Precip',\n 'MonthlyDaysWithGT010Precip',\n 'MonthlyDaysWithGT1Snow',\n 'MonthlyMaxSeaLevelPressureValue',\n 'MonthlyMaxSeaLevelPressureDate',\n 'MonthlyMaxSeaLevelPressureTime',\n 'MonthlyMinSeaLevelPressureValue',\n 'MonthlyMinSeaLevelPressureDate',\n 'MonthlyMinSeaLevelPressureTime',\n 'MonthlyTotalHeatingDegreeDays',\n 'MonthlyTotalCoolingDegreeDays',\n 'MonthlyDeptFromNormalHeatingDD',\n 'MonthlyDeptFromNormalCoolingDD',\n 'MonthlyTotalSeasonToDateHeatingDD',\n 'MonthlyTotalSeasonToDateCoolingDD']"
                    },
                    "execution_count": 4,
                    "metadata": {},
                    "output_type": "execute_result"
                }
            ],
            "source": "df.columns"
        },
        {
            "cell_type": "code",
            "execution_count": 5,
            "metadata": {},
            "outputs": [
                {
                    "data": {
                        "text/plain": "[Row(STATION='WBAN:94789', STATION_NAME='JFK INTERNATIONAL AIRPORT NY US', ELEVATION=3.4, LATITUDE=40.6386, LONGITUDE=-73.7622, DATE='2010-01-01 00:51', REPORTTPYE='FM-15', HOURLYSKYCONDITIONS='FEW:02 7 SCT:04 13 BKN:07 29', HOURLYVISIBILITY='6.00', HOURLYPRSENTWEATHERTYPE='-RA:02 PL:06 BR:1 |RA:61 PL:74 |RA:61 PL:79', HOURLYDRYBULBTEMPF='33', HOURLYDRYBULBTEMPC='0.6', HOURLYWETBULBTEMPF='32', HOURLYWETBULBTEMPC='0.1', HOURLYDewPointTempF='31', HOURLYDewPointTempC='-0.6', HOURLYRelativeHumidity='92', HOURLYWindSpeed='0', HOURLYWindDirection='000', HOURLYWindGustSpeed=None, HOURLYStationPressure='29.97', HOURLYPressureTendency=8, HOURLYPressureChange=None, HOURLYSeaLevelPressure='29.99', HOURLYPrecip='0.01', HOURLYAltimeterSetting='29.99', DAILYMaximumDryBulbTemp=None, DAILYMinimumDryBulbTemp=None, DAILYAverageDryBulbTemp=None, DAILYDeptFromNormalAverageTemp=None, DAILYAverageRelativeHumidity=None, DAILYAverageDewPointTemp=None, DAILYAverageWetBulbTemp=None, DAILYHeatingDegreeDays=None, DAILYCoolingDegreeDays=None, DAILYSunrise=719, DAILYSunset=1639, DAILYWeather=None, DAILYPrecip=None, DAILYSnowfall=None, DAILYSnowDepth=None, DAILYAverageStationPressure=None, DAILYAverageSeaLevelPressure=None, DAILYAverageWindSpeed=None, DAILYPeakWindSpeed=None, PeakWindDirection=None, DAILYSustainedWindSpeed=None, DAILYSustainedWindDirection=None, MonthlyMaximumTemp=None, MonthlyMinimumTemp=None, MonthlyMeanTemp=None, MonthlyAverageRH=None, MonthlyDewpointTemp=None, MonthlyWetBulbTemp=None, MonthlyAvgHeatingDegreeDays=None, MonthlyAvgCoolingDegreeDays=None, MonthlyStationPressure=None, MonthlySeaLevelPressure=None, MonthlyAverageWindSpeed=None, MonthlyTotalSnowfall=None, MonthlyDeptFromNormalMaximumTemp=None, MonthlyDeptFromNormalMinimumTemp=None, MonthlyDeptFromNormalAverageTemp=None, MonthlyDeptFromNormalPrecip=None, MonthlyTotalLiquidPrecip=None, MonthlyGreatestPrecip=None, MonthlyGreatestPrecipDate=None, MonthlyGreatestSnowfall=None, MonthlyGreatestSnowfallDate=None, MonthlyGreatestSnowDepth=None, MonthlyGreatestSnowDepthDate=None, MonthlyDaysWithGT90Temp=None, MonthlyDaysWithLT32Temp=None, MonthlyDaysWithGT32Temp=None, MonthlyDaysWithLT0Temp=None, MonthlyDaysWithGT001Precip=None, MonthlyDaysWithGT010Precip=None, MonthlyDaysWithGT1Snow=None, MonthlyMaxSeaLevelPressureValue=None, MonthlyMaxSeaLevelPressureDate=-9999, MonthlyMaxSeaLevelPressureTime=-9999, MonthlyMinSeaLevelPressureValue=None, MonthlyMinSeaLevelPressureDate=-9999, MonthlyMinSeaLevelPressureTime=-9999, MonthlyTotalHeatingDegreeDays=None, MonthlyTotalCoolingDegreeDays=None, MonthlyDeptFromNormalHeatingDD=None, MonthlyDeptFromNormalCoolingDD=None, MonthlyTotalSeasonToDateHeatingDD=None, MonthlyTotalSeasonToDateCoolingDD=None),\n Row(STATION='WBAN:94789', STATION_NAME='JFK INTERNATIONAL AIRPORT NY US', ELEVATION=3.4, LATITUDE=40.6386, LONGITUDE=-73.7622, DATE='2010-01-01 01:00', REPORTTPYE='FM-12', HOURLYSKYCONDITIONS=None, HOURLYVISIBILITY='5.59', HOURLYPRSENTWEATHERTYPE='||PL:79', HOURLYDRYBULBTEMPF='33', HOURLYDRYBULBTEMPC='0.6', HOURLYWETBULBTEMPF='32', HOURLYWETBULBTEMPC='0.1', HOURLYDewPointTempF='31', HOURLYDewPointTempC='-0.6', HOURLYRelativeHumidity='92', HOURLYWindSpeed='0', HOURLYWindDirection='000', HOURLYWindGustSpeed=None, HOURLYStationPressure='29.96', HOURLYPressureTendency=8, HOURLYPressureChange='+0.05', HOURLYSeaLevelPressure='29.99', HOURLYPrecip=None, HOURLYAltimeterSetting=None, DAILYMaximumDryBulbTemp=34, DAILYMinimumDryBulbTemp=30, DAILYAverageDryBulbTemp=32, DAILYDeptFromNormalAverageTemp=-1.7, DAILYAverageRelativeHumidity=None, DAILYAverageDewPointTemp=None, DAILYAverageWetBulbTemp=None, DAILYHeatingDegreeDays=33, DAILYCoolingDegreeDays=0, DAILYSunrise=719, DAILYSunset=1639, DAILYWeather=None, DAILYPrecip=None, DAILYSnowfall=None, DAILYSnowDepth=None, DAILYAverageStationPressure=None, DAILYAverageSeaLevelPressure=None, DAILYAverageWindSpeed=None, DAILYPeakWindSpeed=None, PeakWindDirection=None, DAILYSustainedWindSpeed=None, DAILYSustainedWindDirection=None, MonthlyMaximumTemp=None, MonthlyMinimumTemp=None, MonthlyMeanTemp=None, MonthlyAverageRH=None, MonthlyDewpointTemp=None, MonthlyWetBulbTemp=None, MonthlyAvgHeatingDegreeDays=None, MonthlyAvgCoolingDegreeDays=None, MonthlyStationPressure=None, MonthlySeaLevelPressure=None, MonthlyAverageWindSpeed=None, MonthlyTotalSnowfall=None, MonthlyDeptFromNormalMaximumTemp=None, MonthlyDeptFromNormalMinimumTemp=None, MonthlyDeptFromNormalAverageTemp=None, MonthlyDeptFromNormalPrecip=None, MonthlyTotalLiquidPrecip=None, MonthlyGreatestPrecip=None, MonthlyGreatestPrecipDate=None, MonthlyGreatestSnowfall=None, MonthlyGreatestSnowfallDate=None, MonthlyGreatestSnowDepth=None, MonthlyGreatestSnowDepthDate=None, MonthlyDaysWithGT90Temp=None, MonthlyDaysWithLT32Temp=None, MonthlyDaysWithGT32Temp=None, MonthlyDaysWithLT0Temp=None, MonthlyDaysWithGT001Precip=None, MonthlyDaysWithGT010Precip=None, MonthlyDaysWithGT1Snow=None, MonthlyMaxSeaLevelPressureValue=None, MonthlyMaxSeaLevelPressureDate=-9999, MonthlyMaxSeaLevelPressureTime=-9999, MonthlyMinSeaLevelPressureValue=None, MonthlyMinSeaLevelPressureDate=-9999, MonthlyMinSeaLevelPressureTime=-9999, MonthlyTotalHeatingDegreeDays=None, MonthlyTotalCoolingDegreeDays=None, MonthlyDeptFromNormalHeatingDD=None, MonthlyDeptFromNormalCoolingDD=None, MonthlyTotalSeasonToDateHeatingDD=None, MonthlyTotalSeasonToDateCoolingDD=None)]"
                    },
                    "execution_count": 5,
                    "metadata": {},
                    "output_type": "execute_result"
                }
            ],
            "source": "df.take(2)"
        },
        {
            "cell_type": "markdown",
            "metadata": {},
            "source": "The dataset contains some null values, therefore schema inference didn\u2019t work properly for all columns, in addition, a column contained trailing characters, so we need to clean up the data set first. This is a normal task in any data science project since your data is never clean, don\u2019t worry if you don\u2019t understand all code, you won\u2019t be asked about it. "
        },
        {
            "cell_type": "code",
            "execution_count": 6,
            "metadata": {},
            "outputs": [],
            "source": "import random\nrandom.seed(42)\n\nfrom pyspark.sql.functions import translate, col\n\ndf_cleaned = df \\\n    .withColumn(\"HOURLYWindSpeed\", df.HOURLYWindSpeed.cast('double')) \\\n    .withColumn(\"HOURLYWindDirection\", df.HOURLYWindDirection.cast('double')) \\\n    .withColumn(\"HOURLYStationPressure\", translate(col(\"HOURLYStationPressure\"), \"s,\", \"\")) \\\n    .withColumn(\"HOURLYPrecip\", translate(col(\"HOURLYPrecip\"), \"s,\", \"\")) \\\n    .withColumn(\"HOURLYRelativeHumidity\", translate(col(\"HOURLYRelativeHumidity\"), \"*\", \"\")) \\\n    .withColumn(\"HOURLYDRYBULBTEMPC\", translate(col(\"HOURLYDRYBULBTEMPC\"), \"*\", \"\")) \\\n\ndf_cleaned =   df_cleaned \\\n                    .withColumn(\"HOURLYStationPressure\", df_cleaned.HOURLYStationPressure.cast('double')) \\\n                    .withColumn(\"HOURLYPrecip\", df_cleaned.HOURLYPrecip.cast('double')) \\\n                    .withColumn(\"HOURLYRelativeHumidity\", df_cleaned.HOURLYRelativeHumidity.cast('double')) \\\n                    .withColumn(\"HOURLYDRYBULBTEMPC\", df_cleaned.HOURLYDRYBULBTEMPC.cast('double')) \\\n\ndf_filtered = df_cleaned.filter(\"\"\"\n    HOURLYWindSpeed <> 0\n    and HOURLYWindSpeed IS NOT NULL\n    and HOURLYWindDirection IS NOT NULL\n    and HOURLYStationPressure IS NOT NULL\n    and HOURLYPressureTendency IS NOT NULL\n    and HOURLYPrecip IS NOT NULL\n    and HOURLYRelativeHumidity IS NOT NULL\n    and HOURLYDRYBULBTEMPC IS NOT NULL\n\"\"\")"
        },
        {
            "cell_type": "markdown",
            "metadata": {},
            "source": "We want to predict the value of one column based of some others. It is sometimes helpful to print a correlation matrix. "
        },
        {
            "cell_type": "code",
            "execution_count": 7,
            "metadata": {},
            "outputs": [
                {
                    "data": {
                        "text/plain": "array([[ 1.        ,  0.25478863, -0.26171147],\n       [ 0.25478863,  1.        , -0.13377466],\n       [-0.26171147, -0.13377466,  1.        ]])"
                    },
                    "execution_count": 7,
                    "metadata": {},
                    "output_type": "execute_result"
                }
            ],
            "source": "from pyspark.ml.feature import VectorAssembler\nvectorAssembler = VectorAssembler(inputCols=[\"HOURLYWindSpeed\",\"HOURLYWindDirection\",\"HOURLYStationPressure\"], outputCol=\"features\")\ndf_pipeline = vectorAssembler.transform(df_filtered)\nfrom pyspark.ml.stat import Correlation\nCorrelation.corr(df_pipeline,\"features\").head()[0].toArray()"
        },
        {
            "cell_type": "markdown",
            "metadata": {},
            "source": "As we can see, HOURLYWindSpeed and HOURLYWindDirection correlate with 0.06306013 whereas HOURLYWindSpeed  and HOURLYStationPressure correlate with -0.4204518, this is a good sign if we want to predict HOURLYWindSpeed from HOURLYWindDirection and HOURLYStationPressure.\nSince this is supervised learning, let\u2019s split our data into train (80%) and test (20%) set."
        },
        {
            "cell_type": "code",
            "execution_count": 8,
            "metadata": {},
            "outputs": [],
            "source": "splits = df_filtered.randomSplit([0.8, 0.2])\ndf_train = splits[0]\ndf_test = splits[1]"
        },
        {
            "cell_type": "markdown",
            "metadata": {},
            "source": "Again, we can re-use our feature engineering pipeline"
        },
        {
            "cell_type": "code",
            "execution_count": 9,
            "metadata": {},
            "outputs": [],
            "source": "from pyspark.ml.feature import StringIndexer, OneHotEncoder, VectorAssembler, Normalizer\nfrom pyspark.ml.linalg import Vectors\nfrom pyspark.ml import Pipeline\n\nvectorAssembler = VectorAssembler(inputCols=[\"HOURLYWindDirection\",\"ELEVATION\",\"HOURLYStationPressure\"],outputCol=\"features\")\n\nnormalizer = Normalizer(inputCol=\"features\", outputCol=\"features_norm\", p=1.0)"
        },
        {
            "cell_type": "markdown",
            "metadata": {},
            "source": "Now we define a function for evaluating our regression prediction performance. We\u2019re using RMSE (Root Mean Squared Error) here , the smaller the better\u2026\n\n"
        },
        {
            "cell_type": "code",
            "execution_count": 10,
            "metadata": {},
            "outputs": [],
            "source": "def regression_metrics(prediction):\n    from pyspark.ml.evaluation import RegressionEvaluator\n    evaluator = RegressionEvaluator(labelCol=\"HOURLYWindSpeed\", predictionCol=\"prediction\", metricName=\"rmse\")\n    rmse = evaluator.evaluate(prediction)\n    print(\"RMSE on test data = %g\" % rmse)"
        },
        {
            "cell_type": "markdown",
            "metadata": {},
            "source": "Let\u2019s run a linear regression model first for building a baseline.\n\n"
        },
        {
            "cell_type": "code",
            "execution_count": 11,
            "metadata": {},
            "outputs": [
                {
                    "name": "stdout",
                    "output_type": "stream",
                    "text": "RMSE on test data = 5.30775\n"
                }
            ],
            "source": "#LR1\n\nfrom pyspark.ml.regression import LinearRegression\n\n\nlr = LinearRegression(labelCol=\"HOURLYWindSpeed\", featuresCol='features', maxIter=100, regParam=0.0, elasticNetParam=0.0)\npipeline = Pipeline(stages=[vectorAssembler, normalizer,lr])\nmodel = pipeline.fit(df_train)\nprediction = model.transform(df_test)\nregression_metrics(prediction)"
        },
        {
            "cell_type": "markdown",
            "metadata": {},
            "source": "Now we\u2019ll try a Gradient Boosted Tree Regressor"
        },
        {
            "cell_type": "code",
            "execution_count": 12,
            "metadata": {},
            "outputs": [
                {
                    "name": "stdout",
                    "output_type": "stream",
                    "text": "RMSE on test data = 5.11099\n"
                }
            ],
            "source": "#GBT1\n\nfrom pyspark.ml.regression import GBTRegressor\ngbt = GBTRegressor(labelCol=\"HOURLYWindSpeed\", featuresCol='features', maxIter=100)\npipeline = Pipeline(stages=[vectorAssembler, normalizer,gbt])\nmodel = pipeline.fit(df_train)\nprediction = model.transform(df_test)\nregression_metrics(prediction)"
        },
        {
            "cell_type": "markdown",
            "metadata": {},
            "source": "Now let\u2019s switch gears. Previously, we tried to predict HOURLYWindSpeed, but now we predict HOURLYWindDirection. In order to turn this into a classification problem we discretize the value using the Bucketizer. The new feature is called HOURLYWindDirectionBucketized."
        },
        {
            "cell_type": "code",
            "execution_count": 13,
            "metadata": {},
            "outputs": [],
            "source": "from pyspark.ml.feature import Bucketizer, OneHotEncoder\nbucketizer = Bucketizer(splits=[ 0, 180, float('Inf') ],inputCol=\"HOURLYWindDirection\", outputCol=\"HOURLYWindDirectionBucketized\")\nencoder = OneHotEncoder(inputCol=\"HOURLYWindDirectionBucketized\", outputCol=\"HOURLYWindDirectionOHE\")\n"
        },
        {
            "cell_type": "markdown",
            "metadata": {},
            "source": "Again, we define a function in order to assess how we perform. Here we just use the accuracy measure which gives us the fraction of correctly classified examples. Again, 0 is bad, 1 is good."
        },
        {
            "cell_type": "code",
            "execution_count": 14,
            "metadata": {},
            "outputs": [],
            "source": "def classification_metrics(prediction):\n    from pyspark.ml.evaluation import MulticlassClassificationEvaluator\n    mcEval = MulticlassClassificationEvaluator().setMetricName(\"accuracy\") .setPredictionCol(\"prediction\").setLabelCol(\"HOURLYWindDirectionBucketized\")\n    accuracy = mcEval.evaluate(prediction)\n    print(\"Accuracy on test data = %g\" % accuracy)"
        },
        {
            "cell_type": "markdown",
            "metadata": {},
            "source": "Again, for baselining we use LogisticRegression."
        },
        {
            "cell_type": "code",
            "execution_count": 15,
            "metadata": {},
            "outputs": [
                {
                    "name": "stdout",
                    "output_type": "stream",
                    "text": "Accuracy on test data = 0.692922\n"
                }
            ],
            "source": "#LGReg1\n\nfrom pyspark.ml.classification import LogisticRegression\nlr = LogisticRegression(labelCol=\"HOURLYWindDirectionBucketized\", maxIter=10)\n#,\"ELEVATION\",\"HOURLYStationPressure\",\"HOURLYPressureTendency\",\"HOURLYPrecip\"\n\nvectorAssembler = VectorAssembler(inputCols=[\"HOURLYWindSpeed\",\"HOURLYDRYBULBTEMPC\"],\n                                  outputCol=\"features\")\n\npipeline = Pipeline(stages=[bucketizer,vectorAssembler,normalizer,lr])\nmodel = pipeline.fit(df_train)\nprediction = model.transform(df_test)\nclassification_metrics(prediction)"
        },
        {
            "cell_type": "markdown",
            "metadata": {},
            "source": "Let\u2019s try some other Algorithms and see if model performance increases. It\u2019s also important to tweak other parameters like parameters of individual algorithms (e.g. number of trees for RandomForest) or parameters in the feature engineering pipeline, e.g. train/test split ratio, normalization, bucketing, \u2026"
        },
        {
            "cell_type": "code",
            "execution_count": 16,
            "metadata": {},
            "outputs": [
                {
                    "name": "stdout",
                    "output_type": "stream",
                    "text": "Accuracy on test data = 0.723744\n"
                }
            ],
            "source": "#RF1\n\nfrom pyspark.ml.classification import RandomForestClassifier\nrf = RandomForestClassifier(labelCol=\"HOURLYWindDirectionBucketized\", numTrees=30)\n\nvectorAssembler = VectorAssembler(inputCols=[\"HOURLYWindSpeed\",\"HOURLYDRYBULBTEMPC\",\"ELEVATION\",\"HOURLYStationPressure\",\"HOURLYPressureTendency\",\"HOURLYPrecip\"],\n                                  outputCol=\"features\")\n\npipeline = Pipeline(stages=[bucketizer,vectorAssembler,normalizer,rf])\nmodel = pipeline.fit(df_train)\nprediction = model.transform(df_test)\nclassification_metrics(prediction)"
        },
        {
            "cell_type": "code",
            "execution_count": 17,
            "metadata": {},
            "outputs": [
                {
                    "name": "stdout",
                    "output_type": "stream",
                    "text": "Accuracy on test data = 0.73242\n"
                }
            ],
            "source": "#GBT2\n\nfrom pyspark.ml.classification import GBTClassifier\ngbt = GBTClassifier(labelCol=\"HOURLYWindDirectionBucketized\", maxIter=100)\n\nvectorAssembler = VectorAssembler(inputCols=[\"HOURLYWindSpeed\",\"HOURLYDRYBULBTEMPC\",\"ELEVATION\",\"HOURLYStationPressure\",\"HOURLYPressureTendency\",\"HOURLYPrecip\"],\n                                  outputCol=\"features\")\n\npipeline = Pipeline(stages=[bucketizer,vectorAssembler,normalizer,gbt])\nmodel = pipeline.fit(df_train)\nprediction = model.transform(df_test)\nclassification_metrics(prediction)"
        },
        {
            "cell_type": "code",
            "execution_count": null,
            "metadata": {},
            "outputs": [],
            "source": ""
        }
    ],
    "metadata": {
        "kernelspec": {
            "display_name": "Python 3.6 with Spark",
            "language": "python3",
            "name": "python36"
        },
        "language_info": {
            "codemirror_mode": {
                "name": "ipython",
                "version": 3
            },
            "file_extension": ".py",
            "mimetype": "text/x-python",
            "name": "python",
            "nbconvert_exporter": "python",
            "pygments_lexer": "ipython3",
            "version": "3.6.8"
        }
    },
    "nbformat": 4,
    "nbformat_minor": 1
}